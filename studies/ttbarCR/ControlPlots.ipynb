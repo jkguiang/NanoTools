{
 "cells": [
  {
   "cell_type": "code",
   "execution_count": 1,
   "metadata": {},
   "outputs": [],
   "source": [
    "import matplotlib.pyplot as plt\n",
    "import numpy as np\n",
    "import pandas\n",
    "import uproot\n",
    "from yahist import Hist1D\n",
    "from yahist.utils import plot_stack\n",
    "from matplotlib.ticker import AutoMinorLocator\n",
    "import os\n",
    "from os import listdir\n",
    "from os.path import isfile, join"
   ]
  },
  {
   "cell_type": "code",
   "execution_count": 2,
   "metadata": {},
   "outputs": [],
   "source": [
    "# matplotlob params\n",
    "params = {'legend.fontsize': 'x-large',\n",
    "          'figure.figsize': (15, 5),\n",
    "          'axes.labelsize': 'x-large',\n",
    "          'axes.titlesize':'x-large',\n",
    "          'xtick.labelsize':'x-large',\n",
    "          'ytick.labelsize':'x-large'}\n",
    "plt.rcParams.update(params)"
   ]
  },
  {
   "cell_type": "code",
   "execution_count": 3,
   "metadata": {},
   "outputs": [],
   "source": [
    "# functions for reading files\n",
    "path_to_mc_TTJets = \"/hadoop/cms/store/user/jguiang/ttbarCR/babies/TTJets/\"\n",
    "mc_dirs_TTJets = [f.path for f in os.scandir(path_to_mc_TTJets) if f.is_dir() and 'v5-0-0' in f.path]\n",
    "mc_files_list_TTJets = lambda i : [f for f in listdir(mc_dirs_TTJets[i]) if isfile(join(mc_dirs_TTJets[i], f))]\n",
    "def mc_nevents_TTJets(i,j):\n",
    "    return uproot.open(mc_dirs_TTJets[i] + '/' + mc_files_list_TTJets(i)[j]).get(\"n_events\").allvalues[1]\n",
    "n_events_list_TTJets = [sum([mc_nevents_TTJets(i,j) for j in range(len(mc_files_list_TTJets(i)))]) for i in range(len(mc_dirs_TTJets))]\n",
    "def mc_files_TTJets(i,j):\n",
    "    df = uproot.open(mc_dirs_TTJets[i] + '/' + mc_files_list_TTJets(i)[j]).get(\"tree\").pandas.df(flatten=False)\n",
    "    if ('DiLept_' in mc_dirs_TTJets[i]):\n",
    "        df.insert(1,'xsec',87.3)\n",
    "        df.insert(2,'n_events',n_events_list_TTJets[i])\n",
    "    elif ('SingleLeptFromT_' in mc_dirs_TTJets[i]):\n",
    "        df.insert(1,'xsec',182.7)\n",
    "        df.insert(2,'n_events',n_events_list_TTJets[i])\n",
    "    elif ('SingleLeptFromTbar_' in mc_dirs_TTJets[i]):\n",
    "        df.insert(1,'xsec',182.7)\n",
    "        df.insert(2,'n_events',n_events_list_TTJets[i])\n",
    "        \n",
    "    if ('Summer16' in mc_dirs_TTJets[i]):\n",
    "        df.insert(3,'int_lumi',35920)\n",
    "        df.insert(4,'year',2016)\n",
    "    elif ('Fall17' in mc_dirs_TTJets[i]):\n",
    "        df.insert(3,'int_lumi',41530)\n",
    "        df.insert(4,'year',2017)\n",
    "    elif ('Autumn18' in mc_dirs_TTJets[i]):\n",
    "        df.insert(3,'int_lumi',59740)\n",
    "        df.insert(4,'year',2018)\n",
    "    return df"
   ]
  },
  {
   "cell_type": "code",
   "execution_count": 4,
   "metadata": {},
   "outputs": [],
   "source": [
    "path_to_mc_ST = \"/hadoop/cms/store/user/jguiang/ttbarCR/babies/ST/\"\n",
    "mc_dirs_ST = [f.path for f in os.scandir(path_to_mc_ST) if f.is_dir() and 'v5-0-0' in f.path]\n",
    "mc_files_list_ST = lambda i : [f for f in listdir(mc_dirs_ST[i]) if isfile(join(mc_dirs_ST[i], f))]\n",
    "def mc_nevents_ST(i,j):\n",
    "    return uproot.open(mc_dirs_ST[i] + '/' + mc_files_list_ST(i)[j]).get(\"n_events\").allvalues[1]\n",
    "n_events_list_ST = [sum([mc_nevents_ST(i,j) for j in range(len(mc_files_list_ST(i)))]) for i in range(len(mc_dirs_ST))]\n",
    "def mc_files_ST(i,j):\n",
    "    df = uproot.open(mc_dirs_ST[i] + '/' + mc_files_list_ST(i)[j]).get(\"tree\").pandas.df(flatten=False)\n",
    "    if ('s-channel' in mc_dirs_ST[i]):\n",
    "        df.insert(1,'xsec',3.7)\n",
    "        df.insert(2,'n_events',n_events_list_ST[i])\n",
    "    elif ('t-channel_antitop' in mc_dirs_ST[i]):\n",
    "        df.insert(1,'xsec',80.95)\n",
    "        df.insert(2,'n_events',n_events_list_ST[i])\n",
    "    elif ('t-channel_top' in mc_dirs_ST[i]):\n",
    "        df.insert(1,'xsec',136.02)\n",
    "        df.insert(2,'n_events',n_events_list_ST[i])\n",
    "    elif ('tW_antitop' in mc_dirs_ST[i]):\n",
    "        df.insert(1,'xsec',19.6)\n",
    "        df.insert(2,'n_events',n_events_list_ST[i])\n",
    "    elif ('tW_top' in mc_dirs_ST[i]):\n",
    "        df.insert(1,'xsec',19.6)\n",
    "        df.insert(2,'n_events',n_events_list_ST[i])\n",
    "        \n",
    "    if ('Summer16' in mc_dirs_ST[i]):\n",
    "        df.insert(3,'int_lumi',35920)\n",
    "        df.insert(4,'year',2016)\n",
    "    elif ('Fall17' in mc_dirs_ST[i]):\n",
    "        df.insert(3,'int_lumi',41530)\n",
    "        df.insert(4,'year',2017)\n",
    "    elif ('Autumn18' in mc_dirs_ST[i]):\n",
    "        df.insert(3,'int_lumi',59740)\n",
    "        df.insert(4,'year',2018)\n",
    "    return df"
   ]
  },
  {
   "cell_type": "code",
   "execution_count": 5,
   "metadata": {},
   "outputs": [],
   "source": [
    "path_to_mc_VV = \"/hadoop/cms/store/user/jguiang/ttbarCR/babies/VV/\"\n",
    "mc_dirs_VV = [f.path for f in os.scandir(path_to_mc_VV) if f.is_dir() and 'v5-0-0' in f.path]\n",
    "mc_files_list_VV = lambda i : [f for f in listdir(mc_dirs_VV[i]) if isfile(join(mc_dirs_VV[i], f))]\n",
    "def mc_nevents_VV(i,j):\n",
    "    return uproot.open(mc_dirs_VV[i] + '/' + mc_files_list_VV(i)[j]).get(\"n_events\").allvalues[1]\n",
    "n_events_list_VV = [sum([mc_nevents_VV(i,j) for j in range(len(mc_files_list_VV(i)))]) for i in range(len(mc_dirs_VV))]\n",
    "def mc_files_VV(i,j):\n",
    "    df = uproot.open(mc_dirs_VV[i] + '/' + mc_files_list_VV(i)[j]).get(\"tree\").pandas.df(flatten=False)\n",
    "    if ('WWTo2L2Nu_' in mc_dirs_VV[i]):\n",
    "        df.insert(1,'xsec',12.18)\n",
    "        df.insert(2,'n_events',n_events_list_VV[i])\n",
    "    elif ('WWToLNuQQ_' in mc_dirs_VV[i]):\n",
    "        df.insert(1,'xsec',50.00)\n",
    "        df.insert(2,'n_events',n_events_list_VV[i])\n",
    "    elif ('WZTo1L1Nu2Q_' in mc_dirs_VV[i]):\n",
    "        df.insert(1,'xsec',10.74)\n",
    "        df.insert(2,'n_events',n_events_list_VV[i])\n",
    "    elif ('WZTo1L3Nu_' in mc_dirs_VV[i]):\n",
    "        df.insert(1,'xsec',3.05)\n",
    "        df.insert(2,'n_events',n_events_list_VV[i])\n",
    "    elif ('WZTo2L2Q_' in mc_dirs_VV[i]):\n",
    "        df.insert(1,'xsec',5.60)\n",
    "        df.insert(2,'n_events',n_events_list_VV[i])\n",
    "    elif ('WZTo3LNu_' in mc_dirs_VV[i]):\n",
    "        df.insert(1,'xsec',4.43)\n",
    "        df.insert(2,'n_events',n_events_list_VV[i])\n",
    "    elif ('ZZTo2L2Nu_' in mc_dirs_VV[i]):\n",
    "        df.insert(1,'xsec',0.56)\n",
    "        df.insert(2,'n_events',n_events_list_VV[i])\n",
    "    elif ('ZZTo2L2Q_' in mc_dirs_VV[i]):\n",
    "        df.insert(1,'xsec',3.22)\n",
    "        df.insert(2,'n_events',n_events_list_VV[i])\n",
    "    elif ('ZZTo2Q2Nu_' in mc_dirs_VV[i]):\n",
    "        df.insert(1,'xsec',4.73)\n",
    "        df.insert(2,'n_events',n_events_list_VV[i])\n",
    "    elif ('ZZTo4L_' in mc_dirs_VV[i]):\n",
    "        df.insert(1,'xsec',1.25)\n",
    "        df.insert(2,'n_events',n_events_list_VV[i])\n",
    "        \n",
    "    if ('Summer16' in mc_dirs_VV[i]):\n",
    "        df.insert(3,'int_lumi',35920)\n",
    "        df.insert(4,'year',2016)\n",
    "    elif ('Fall17' in mc_dirs_VV[i]):\n",
    "        df.insert(3,'int_lumi',41530)\n",
    "        df.insert(4,'year',2017)\n",
    "    elif ('Autumn18' in mc_dirs_VV[i]):\n",
    "        df.insert(3,'int_lumi',59740)\n",
    "        df.insert(4,'year',2018)\n",
    "    return df"
   ]
  },
  {
   "cell_type": "code",
   "execution_count": 6,
   "metadata": {},
   "outputs": [],
   "source": [
    "path_to_mc_TTV = \"/hadoop/cms/store/user/jguiang/ttbarCR/babies/TTV/\"\n",
    "mc_dirs_TTV = [f.path for f in os.scandir(path_to_mc_TTV) if f.is_dir() and 'v5-0-0' in f.path]\n",
    "mc_files_list_TTV = lambda i : [f for f in listdir(mc_dirs_TTV[i]) if isfile(join(mc_dirs_TTV[i], f))]\n",
    "def mc_nevents_TTV(i,j):\n",
    "    return uproot.open(mc_dirs_TTV[i] + '/' + mc_files_list_TTV(i)[j]).get(\"n_events\").allvalues[1]\n",
    "n_events_list_TTV = [sum([mc_nevents_TTV(i,j) for j in range(len(mc_files_list_TTV(i)))]) for i in range(len(mc_dirs_TTV))]\n",
    "def mc_files_TTV(i,j):\n",
    "    df = uproot.open(mc_dirs_TTV[i] + '/' + mc_files_list_TTV(i)[j]).get(\"tree\").pandas.df(flatten=False)\n",
    "    if ('TTWJetsToLNu_' in mc_dirs_TTV[i]):\n",
    "        df.insert(1,'xsec',0.20)\n",
    "        df.insert(2,'n_events',n_events_list_TTV[i])\n",
    "    elif ('TTWJetsToQQ_' in mc_dirs_TTV[i]):\n",
    "        df.insert(1,'xsec',0.40)\n",
    "        df.insert(2,'n_events',n_events_list_TTV[i])\n",
    "    elif ('TTZToLLNuNu_' in mc_dirs_TTV[i]):\n",
    "        df.insert(1,'xsec',0.25)\n",
    "        df.insert(2,'n_events',n_events_list_TTV[i])\n",
    "    elif ('TTZToQQ_' in mc_dirs_TTV[i]):\n",
    "        df.insert(1,'xsec',0.53)\n",
    "        df.insert(2,'n_events',n_events_list_TTV[i])\n",
    "        \n",
    "    if ('Summer16' in mc_dirs_TTV[i]):\n",
    "        df.insert(3,'int_lumi',35920)\n",
    "        df.insert(4,'year',2016)\n",
    "    elif ('Fall17' in mc_dirs_TTV[i]):\n",
    "        df.insert(3,'int_lumi',41530)\n",
    "        df.insert(4,'year',2017)\n",
    "    elif ('Autumn18' in mc_dirs_TTV[i]):\n",
    "        df.insert(3,'int_lumi',59740)\n",
    "        df.insert(4,'year',2018)\n",
    "    return df"
   ]
  },
  {
   "cell_type": "code",
   "execution_count": 26,
   "metadata": {},
   "outputs": [],
   "source": [
    "path_to_mc_VJets = \"/hadoop/cms/store/user/jguiang/ttbarCR/babies/VJets/\"\n",
    "mc_dirs_VJets = [f.path for f in os.scandir(path_to_mc_VJets) if f.is_dir() and 'v5-0-0' in f.path]\n",
    "mc_files_list_VJets = lambda i : [f for f in listdir(mc_dirs_VJets[i]) if isfile(join(mc_dirs_VJets[i], f))]\n",
    "def mc_nevents_VJets(i,j):\n",
    "    return uproot.open(mc_dirs_VJets[i] + '/' + mc_files_list_VJets(i)[j]).get(\"n_events\").allvalues[1]\n",
    "n_events_list_VJets = [sum([mc_nevents_VJets(i,j) for j in range(len(mc_files_list_VJets(i)))]) for i in range(len(mc_dirs_VJets))]\n",
    "def mc_files_VJets(i,j):\n",
    "    df = uproot.open(mc_dirs_VJets[i] + '/' + mc_files_list_VJets(i)[j]).get(\"tree\").pandas.df(flatten=False)\n",
    "    if ('DYJetsToLL_' in mc_dirs_VJets[i]):\n",
    "        df.insert(1,'xsec',6021)\n",
    "        df.insert(2,'n_events',n_events_list_VJets[i])\n",
    "    elif ('W1JetsToLNu_NuPt-200_' in mc_dirs_VJets[i]):\n",
    "        df.insert(1,'xsec',2.36)\n",
    "        df.insert(2,'n_events',n_events_list_VJets[i])\n",
    "    elif ('W1JetsToLNu_Tu' in mc_dirs_VJets[i]):\n",
    "        df.insert(1,'xsec',11752)\n",
    "        df.insert(2,'n_events',n_events_list_VJets[i])\n",
    "    elif ('W2JetsToLNu_NuPt-200_' in mc_dirs_VJets[i]):\n",
    "        df.insert(1,'xsec',4.95)\n",
    "        df.insert(2,'n_events',n_events_list_VJets[i])\n",
    "    elif ('W2JetsToLNu_Tu' in mc_dirs_VJets[i]):\n",
    "        df.insert(1,'xsec',3841)\n",
    "        df.insert(2,'n_events',n_events_list_VJets[i])\n",
    "    elif ('W3JetsToLNu_NuPt-200_' in mc_dirs_VJets[i]):\n",
    "        df.insert(1,'xsec',4.94)\n",
    "        df.insert(2,'n_events',n_events_list_VJets[i])\n",
    "    elif ('W3JetsToLNu_Tu' in mc_dirs_VJets[i]):\n",
    "        df.insert(1,'xsec',1160)\n",
    "        df.insert(2,'n_events',n_events_list_VJets[i])\n",
    "    elif ('W4JetsToLNu_NuPt-200_' in mc_dirs_VJets[i]):\n",
    "        df.insert(1,'xsec',8.83)\n",
    "        df.insert(2,'n_events',n_events_list_VJets[i])\n",
    "    elif ('W4JetsToLNu_Tu' in mc_dirs_VJets[i]):\n",
    "        df.insert(1,'xsec',600)\n",
    "        df.insert(2,'n_events',n_events_list_VJets[i])\n",
    "        \n",
    "    if ('Summer16' in mc_dirs_VJets[i]):\n",
    "        df.insert(3,'int_lumi',35920)\n",
    "        df.insert(4,'year',2016)\n",
    "    elif ('Fall17' in mc_dirs_VJets[i]):\n",
    "        df.insert(3,'int_lumi',41530)\n",
    "        df.insert(4,'year',2017)\n",
    "    elif ('Autumn18' in mc_dirs_VJets[i]):\n",
    "        df.insert(3,'int_lumi',59740)\n",
    "        df.insert(4,'year',2018)\n",
    "    return df"
   ]
  },
  {
   "cell_type": "code",
   "execution_count": 8,
   "metadata": {},
   "outputs": [],
   "source": [
    "path_to_data = \"/hadoop/cms/store/user/jguiang/ttbarCR/babies/MuonEG/\"\n",
    "data_dirs = [f.path for f in os.scandir(path_to_data) if f.is_dir() and 'v5-0-0' in f.path]\n",
    "data_files_list = lambda i : [f for f in listdir(data_dirs[i]) if isfile(join(data_dirs[i], f))]\n",
    "def data_files(i,j):\n",
    "    df = uproot.open(data_dirs[i] + '/' + data_files_list(i)[j]).get(\"tree\").pandas.df(flatten=False)\n",
    "    if ('2016' in data_dirs[i]):\n",
    "        df.insert(1,'year',2016)\n",
    "    elif ('2017' in data_dirs[i]):\n",
    "        df.insert(1,'year',2017)\n",
    "    elif ('2018' in data_dirs[i]):\n",
    "        df.insert(1,'year',2018)\n",
    "    return df"
   ]
  },
  {
   "cell_type": "code",
   "execution_count": 9,
   "metadata": {},
   "outputs": [],
   "source": [
    "# making list w/ functions above\n",
    "mc_list_TTJets = [mc_files_TTJets(i,j) for i in range(len(mc_dirs_TTJets)) for j in range(len(mc_files_list_TTJets(i)))]"
   ]
  },
  {
   "cell_type": "code",
   "execution_count": 10,
   "metadata": {},
   "outputs": [],
   "source": [
    "mc_list_ST = [mc_files_ST(i,j) for i in range(len(mc_dirs_ST)) for j in range(len(mc_files_list_ST(i)))]"
   ]
  },
  {
   "cell_type": "code",
   "execution_count": 11,
   "metadata": {},
   "outputs": [],
   "source": [
    "mc_list_VV = [mc_files_VV(i,j) for i in range(len(mc_dirs_VV)) for j in range(len(mc_files_list_VV(i)))]"
   ]
  },
  {
   "cell_type": "code",
   "execution_count": 12,
   "metadata": {},
   "outputs": [],
   "source": [
    "mc_list_TTV = [mc_files_TTV(i,j) for i in range(len(mc_dirs_TTV)) for j in range(len(mc_files_list_TTV(i)))]"
   ]
  },
  {
   "cell_type": "code",
   "execution_count": 27,
   "metadata": {},
   "outputs": [],
   "source": [
    "mc_list_VJets = [mc_files_VJets(i,j) for i in range(len(mc_dirs_VJets)) for j in range(len(mc_files_list_VJets(i)))]"
   ]
  },
  {
   "cell_type": "code",
   "execution_count": 14,
   "metadata": {},
   "outputs": [],
   "source": [
    "data_list = [data_files(i,j) for i in range(len(data_dirs)) for j in range(len(data_files_list(i)))]"
   ]
  },
  {
   "cell_type": "code",
   "execution_count": 68,
   "metadata": {},
   "outputs": [],
   "source": [
    "# concat to make df\n",
    "mc_TTJets = pandas.concat(mc_list_TTJets)\n",
    "mc_ST = pandas.concat(mc_list_ST)\n",
    "mc_VV = pandas.concat(mc_list_VV)\n",
    "mc_TTV = pandas.concat(mc_list_TTV)\n",
    "mc_VJets = pandas.concat(mc_list_VJets)\n",
    "data = pandas.concat(data_list)"
   ]
  },
  {
   "cell_type": "code",
   "execution_count": 80,
   "metadata": {},
   "outputs": [],
   "source": [
    "mc_c_TTJets = mc_TTJets[mc_TTJets['year']==2017]\n",
    "mc_c_ST = mc_ST[mc_ST['year']==2017]\n",
    "mc_c_VV = mc_VV[mc_VV['year']==2017]\n",
    "mc_c_TTV = mc_TTV[mc_TTV['year']==2017]\n",
    "mc_c_VJets = mc_VJets[mc_VJets['year']==2017]\n",
    "data_c = data[data['year']==2017]"
   ]
  },
  {
   "cell_type": "code",
   "execution_count": 81,
   "metadata": {},
   "outputs": [],
   "source": [
    "#mc_c = mc[mc['num_btags_tight'] >= 2]\n",
    "#data_c = data[data['num_btags_tight'] >= 2] "
   ]
  },
  {
   "cell_type": "code",
   "execution_count": 82,
   "metadata": {},
   "outputs": [],
   "source": [
    "xsec_weight_TTJets = mc_c_TTJets.gen_weight * mc_c_TTJets.xsec * mc_c_TTJets.int_lumi / mc_c_TTJets.n_events\n",
    "comb_w_TTJets = mc_c_TTJets.mc_weight * mc_c_TTJets.mc_tight_btag_weight * xsec_weight_TTJets"
   ]
  },
  {
   "cell_type": "code",
   "execution_count": 83,
   "metadata": {},
   "outputs": [],
   "source": [
    "xsec_weight_ST = mc_c_ST.gen_weight * mc_c_ST.xsec * mc_c_ST.int_lumi / mc_c_ST.n_events\n",
    "comb_w_ST = mc_c_ST.mc_weight * mc_c_ST.mc_tight_btag_weight * xsec_weight_ST"
   ]
  },
  {
   "cell_type": "code",
   "execution_count": 84,
   "metadata": {},
   "outputs": [],
   "source": [
    "xsec_weight_VV = mc_c_VV.gen_weight * mc_c_VV.xsec * mc_c_VV.int_lumi / mc_c_VV.n_events\n",
    "comb_w_VV = mc_c_VV.mc_weight * mc_c_VV.mc_tight_btag_weight * xsec_weight_VV"
   ]
  },
  {
   "cell_type": "code",
   "execution_count": 85,
   "metadata": {},
   "outputs": [],
   "source": [
    "xsec_weight_TTV = mc_c_TTV.gen_weight * mc_c_TTV.xsec * mc_c_TTV.int_lumi / mc_c_TTV.n_events\n",
    "comb_w_TTV = mc_c_TTV.mc_weight * mc_c_TTV.mc_tight_btag_weight * xsec_weight_TTV"
   ]
  },
  {
   "cell_type": "code",
   "execution_count": 86,
   "metadata": {},
   "outputs": [],
   "source": [
    "xsec_weight_VJets = mc_c_VJets.gen_weight * mc_c_VJets.xsec * mc_c_VJets.int_lumi / mc_c_VJets.n_events\n",
    "comb_w_VJets = mc_c_VJets.mc_weight * mc_c_VJets.mc_tight_btag_weight * xsec_weight_VJets"
   ]
  },
  {
   "cell_type": "code",
   "execution_count": 87,
   "metadata": {},
   "outputs": [
    {
     "data": {
      "text/plain": [
       "[<matplotlib.lines.Line2D at 0x7fe995d14cd0>]"
      ]
     },
     "execution_count": 87,
     "metadata": {},
     "output_type": "execute_result"
    },
    {
     "data": {
      "image/png": "[encoded data removed]",
      "text/plain": [
       "<Figure size 720x720 with 2 Axes>"
      ]
     },
     "metadata": {
      "needs_background": "light"
     },
     "output_type": "display_data"
    }
   ],
   "source": [
    "bins = np.linspace(0,350,10)\n",
    "mc_p_TTJets = Hist1D(mc_c_TTJets.met,weights=comb_w_TTJets,bins=bins,label='TTJets['+str(round(sum(comb_w_TTJets)))+']',color='gold')\n",
    "mc_pe_TTJets = Hist1D(mc_c_TTJets.met,weights=comb_w_TTJets,bins=bins,color='orange')\n",
    "mc_p_ST = Hist1D(mc_c_ST.met,weights=comb_w_ST,bins=bins,label='ST['+str(round(sum(comb_w_ST)))+']',color='steelblue')\n",
    "mc_p_VV = Hist1D(mc_c_VV.met,weights=comb_w_VV,bins=bins,label='VV['+str(round(sum(comb_w_VV)))+']',color='red')\n",
    "mc_p_TTV = Hist1D(mc_c_TTV.met,weights=comb_w_TTV,bins=bins,label='TTV['+str(round(sum(comb_w_TTV)))+']',color='green')\n",
    "mc_p_VJets = Hist1D(mc_c_VJets.met,weights=comb_w_VJets,bins=bins,label='VJets['+str(round(sum(comb_w_VJets)))+']',color='purple')\n",
    "data_p = Hist1D(data_c.met,bins=bins,label='Data['+str(len(data_c))+']',color='black')\n",
    "one = np.ones(50)\n",
    "one_x = np.linspace(0,350)\n",
    "#Plot\n",
    "fig,(ax1,ax2) = plt.subplots(2,sharex=True,figsize=(10,10),gridspec_kw=dict(height_ratios=[5, 2]))\n",
    "plot_stack([mc_p_VJets, mc_p_TTV, mc_p_ST, mc_p_VV, mc_p_TTJets], ax=ax1)\n",
    "#mc_pe_TTJets.plot(ax=ax1,show_errors=True)\n",
    "ax1.set_ylabel(\"Events\")\n",
    "ax2.set_xlabel(r\"MET\")\n",
    "ax1.yaxis.set_minor_locator(AutoMinorLocator())\n",
    "data_p.plot(ax=ax1,show_errors=True)\n",
    "(data_p/(mc_p_TTJets+mc_p_ST+mc_p_VV+mc_p_TTV+mc_p_VJets)).plot(ax=ax2,show_errors=True,label='')\n",
    "ax2.set_ylabel(r\"$\\frac{Data}{MC}$\",fontsize=18)\n",
    "ax2.set_ylim(0.3,1.7)\n",
    "ax2.yaxis.set_minor_locator(AutoMinorLocator())\n",
    "plt.plot(one_x,one,'k--')"
   ]
  },
  {
   "cell_type": "code",
   "execution_count": 88,
   "metadata": {},
   "outputs": [
    {
     "data": {
      "text/plain": [
       "[<matplotlib.lines.Line2D at 0x7fe9961e4990>]"
      ]
     },
     "execution_count": 88,
     "metadata": {},
     "output_type": "execute_result"
    },
    {
     "data": {
      "image/png": "[encoded data removed]",
      "text/plain": [
       "<Figure size 720x720 with 2 Axes>"
      ]
     },
     "metadata": {
      "needs_background": "light"
     },
     "output_type": "display_data"
    }
   ],
   "source": [
    "bins = np.linspace(0,2000,20)\n",
    "mc_p_TTJets = Hist1D(mc_c_TTJets.vbs_dijet_mass,weights=comb_w_TTJets,bins=bins,label='TTJets['+str(round(sum(comb_w_TTJets)))+']',color='gold')\n",
    "mc_pe_TTJets = Hist1D(mc_c_TTJets.vbs_dijet_mass,weights=comb_w_TTJets,bins=bins,color='orange')\n",
    "mc_p_ST = Hist1D(mc_c_ST.vbs_dijet_mass,weights=comb_w_ST,bins=bins,label='ST['+str(round(sum(comb_w_ST)))+']',color='steelblue')\n",
    "mc_p_VV = Hist1D(mc_c_VV.vbs_dijet_mass,weights=comb_w_VV,bins=bins,label='VV['+str(round(sum(comb_w_VV)))+']',color='red')\n",
    "mc_p_TTV = Hist1D(mc_c_TTV.vbs_dijet_mass,weights=comb_w_TTV,bins=bins,label='TTV['+str(round(sum(comb_w_TTV)))+']',color='green')\n",
    "mc_p_VJets = Hist1D(mc_c_VJets.vbs_dijet_mass,weights=comb_w_VJets,bins=bins,label='VJets['+str(round(sum(comb_w_VJets)))+']',color='purple')\n",
    "data_p = Hist1D(data_c.vbs_dijet_mass,bins=bins,label='Data['+str(len(data_c))+']',color='black')\n",
    "one = np.ones(50)\n",
    "one_x = np.linspace(0,2000)\n",
    "#Plot\n",
    "fig,(ax1,ax2) = plt.subplots(2,sharex=True,figsize=(10,10),gridspec_kw=dict(height_ratios=[5, 2]))\n",
    "plot_stack([mc_p_VJets, mc_p_TTV, mc_p_ST, mc_p_VV, mc_p_TTJets], ax=ax1)\n",
    "#mc_pe_TTJets.plot(ax=ax1,show_errors=True)\n",
    "ax1.set_ylabel(\"Events\")\n",
    "ax2.set_xlabel(r\"DiJet Mass\")\n",
    "ax1.yaxis.set_minor_locator(AutoMinorLocator())\n",
    "data_p.plot(ax=ax1,show_errors=True)\n",
    "(data_p/(mc_p_TTJets+mc_p_ST+mc_p_VV+mc_p_TTV+mc_p_VJets)).plot(ax=ax2,show_errors=True,label='')\n",
    "ax2.set_ylabel(r\"$\\frac{Data}{MC}$\",fontsize=18)\n",
    "ax2.set_ylim(0.3,1.7)\n",
    "ax2.yaxis.set_minor_locator(AutoMinorLocator())\n",
    "plt.plot(one_x,one,'k--')"
   ]
  },
  {
   "cell_type": "code",
   "execution_count": 89,
   "metadata": {},
   "outputs": [
    {
     "data": {
      "text/plain": [
       "[<matplotlib.lines.Line2D at 0x7fe995f6c190>]"
      ]
     },
     "execution_count": 89,
     "metadata": {},
     "output_type": "execute_result"
    },
    {
     "data": {
      "image/png": "[encoded data removed]",
      "text/plain": [
       "<Figure size 720x720 with 2 Axes>"
      ]
     },
     "metadata": {
      "needs_background": "light"
     },
     "output_type": "display_data"
    }
   ],
   "source": [
    "bins = np.linspace(0,500,20)\n",
    "mc_p_TTJets = Hist1D(mc_c_TTJets.dilep_mass,weights=comb_w_TTJets,bins=bins,label='TTJets['+str(round(sum(comb_w_TTJets)))+']',color='gold')\n",
    "mc_pe_TTJets = Hist1D(mc_c_TTJets.dilep_mass,weights=comb_w_TTJets,bins=bins,color='orange')\n",
    "mc_p_ST = Hist1D(mc_c_ST.dilep_mass,weights=comb_w_ST,bins=bins,label='ST['+str(round(sum(comb_w_ST)))+']',color='steelblue')\n",
    "mc_p_VV = Hist1D(mc_c_VV.dilep_mass,weights=comb_w_VV,bins=bins,label='VV['+str(round(sum(comb_w_VV)))+']',color='red')\n",
    "mc_p_TTV = Hist1D(mc_c_TTV.dilep_mass,weights=comb_w_TTV,bins=bins,label='TTV['+str(round(sum(comb_w_TTV)))+']',color='green')\n",
    "mc_p_VJets = Hist1D(mc_c_VJets.dilep_mass,weights=comb_w_VJets,bins=bins,label='VJets['+str(round(sum(comb_w_VJets)))+']',color='purple')\n",
    "data_p = Hist1D(data_c.dilep_mass,bins=bins,label='Data['+str(len(data_c))+']',color='black')\n",
    "one = np.ones(50)\n",
    "one_x = np.linspace(0,500)\n",
    "#Plot\n",
    "fig,(ax1,ax2) = plt.subplots(2,sharex=True,figsize=(10,10),gridspec_kw=dict(height_ratios=[5, 2]))\n",
    "plot_stack([mc_p_VJets, mc_p_TTV, mc_p_ST, mc_p_VV, mc_p_TTJets], ax=ax1)\n",
    "#mc_pe_TTJets.plot(ax=ax1,show_errors=True)\n",
    "ax1.set_ylabel(\"Events\")\n",
    "ax2.set_xlabel(r\"DiLepton Mass\")\n",
    "ax1.yaxis.set_minor_locator(AutoMinorLocator())\n",
    "data_p.plot(ax=ax1,show_errors=True)\n",
    "(data_p/(mc_p_TTJets+mc_p_ST+mc_p_VV+mc_p_TTV+mc_p_VJets)).plot(ax=ax2,show_errors=True,label='')\n",
    "ax2.set_ylabel(r\"$\\frac{Data}{MC}$\",fontsize=18)\n",
    "ax2.set_ylim(0.3,1.7)\n",
    "ax2.yaxis.set_minor_locator(AutoMinorLocator())\n",
    "plt.plot(one_x,one,'k--')"
   ]
  },
  {
   "cell_type": "code",
   "execution_count": 90,
   "metadata": {},
   "outputs": [
    {
     "data": {
      "text/plain": [
       "[<matplotlib.lines.Line2D at 0x7fe9963d2f50>]"
      ]
     },
     "execution_count": 90,
     "metadata": {},
     "output_type": "execute_result"
    },
    {
     "data": {
      "image/png": "[encoded data removed]",
      "text/plain": [
       "<Figure size 720x720 with 2 Axes>"
      ]
     },
     "metadata": {
      "needs_background": "light"
     },
     "output_type": "display_data"
    }
   ],
   "source": [
    "bins = np.linspace(0,12,13)\n",
    "mc_p_TTJets = Hist1D(mc_c_TTJets.num_jets,weights=comb_w_TTJets,bins=bins,label='TTJets['+str(round(sum(comb_w_TTJets)))+']',color='gold')\n",
    "mc_pe_TTJets = Hist1D(mc_c_TTJets.num_jets,weights=comb_w_TTJets,bins=bins,color='orange')\n",
    "mc_p_ST = Hist1D(mc_c_ST.num_jets,weights=comb_w_ST,bins=bins,label='ST['+str(round(sum(comb_w_ST)))+']',color='steelblue')\n",
    "mc_p_VV = Hist1D(mc_c_VV.num_jets,weights=comb_w_VV,bins=bins,label='VV['+str(round(sum(comb_w_VV)))+']',color='red')\n",
    "mc_p_TTV = Hist1D(mc_c_TTV.num_jets,weights=comb_w_TTV,bins=bins,label='TTV['+str(round(sum(comb_w_TTV)))+']',color='green')\n",
    "mc_p_VJets = Hist1D(mc_c_VJets.num_jets,weights=comb_w_VJets,bins=bins,label='VJets['+str(round(sum(comb_w_VJets)))+']',color='purple')\n",
    "data_p = Hist1D(data_c.num_jets,bins=bins,label='Data['+str(len(data_c))+']',color='black')\n",
    "one = np.ones(50)\n",
    "one_x = np.linspace(0,12)\n",
    "#Plot\n",
    "fig,(ax1,ax2) = plt.subplots(2,sharex=True,figsize=(10,10),gridspec_kw=dict(height_ratios=[5, 2]))\n",
    "plot_stack([mc_p_VJets, mc_p_TTV, mc_p_ST, mc_p_VV, mc_p_TTJets], ax=ax1)\n",
    "#mc_pe_TTJets.plot(ax=ax1,show_errors=True)\n",
    "ax1.set_ylabel(\"Events\")\n",
    "ax2.set_xlabel(r\"Number of Jets\")\n",
    "ax1.yaxis.set_minor_locator(AutoMinorLocator())\n",
    "data_p.plot(ax=ax1,show_errors=True)\n",
    "(data_p/(mc_p_TTJets+mc_p_ST+mc_p_VV+mc_p_TTV+mc_p_VJets)).plot(ax=ax2,show_errors=True,label='')\n",
    "ax2.set_ylabel(r\"$\\frac{Data}{MC}$\",fontsize=18)\n",
    "ax2.set_ylim(0.3,1.7)\n",
    "ax2.yaxis.set_minor_locator(AutoMinorLocator())\n",
    "plt.plot(one_x,one,'k--')"
   ]
  },
  {
   "cell_type": "code",
   "execution_count": null,
   "metadata": {},
   "outputs": [],
   "source": [
    "bins = np.linspace(0,300,10)\n",
    "mc_p_TTJets = Hist1D(mc_c_TTJets.leading_lep_pt,weights=comb_w_TTJets,bins=bins,label='TTJets['+str(round(sum(comb_w_TTJets)))+']',color='gold')\n",
    "mc_pe_TTJets = Hist1D(mc_c_TTJets.leading_lep_pt,weights=comb_w_TTJets,bins=bins,color='orange')\n",
    "mc_p_ST = Hist1D(mc_c_ST.leading_lep_pt,weights=comb_w_ST,bins=bins,label='ST['+str(round(sum(comb_w_ST)))+']',color='steelblue')\n",
    "mc_p_VV = Hist1D(mc_c_VV.leading_lep_pt,weights=comb_w_VV,bins=bins,label='VV['+str(round(sum(comb_w_VV)))+']',color='red')\n",
    "mc_p_TTV = Hist1D(mc_c_TTV.leading_lep_pt,weights=comb_w_TTV,bins=bins,label='TTV['+str(round(sum(comb_w_TTV)))+']',color='green')\n",
    "mc_p_VJets = Hist1D(mc_c_VJets.leading_lep_pt,weights=comb_w_VJets,bins=bins,label='VJets['+str(round(sum(comb_w_VJets)))+']',color='purple')\n",
    "data_p = Hist1D(data_c.leading_lep_pt,bins=bins,label='Data['+str(len(data_c))+']',color='black')\n",
    "one = np.ones(50)\n",
    "one_x = np.linspace(0,300)\n",
    "#Plot\n",
    "fig,(ax1,ax2) = plt.subplots(2,sharex=True,figsize=(10,10),gridspec_kw=dict(height_ratios=[5, 2]))\n",
    "plot_stack([mc_p_VJets, mc_p_TTV, mc_p_ST, mc_p_VV, mc_p_TTJets], ax=ax1)\n",
    "#mc_pe_TTJets.plot(ax=ax1,show_errors=True)\n",
    "ax1.set_ylabel(\"Events\")\n",
    "ax2.set_xlabel(r\"Leading Lepton Pt\")\n",
    "ax1.yaxis.set_minor_locator(AutoMinorLocator())\n",
    "data_p.plot(ax=ax1,show_errors=True)\n",
    "(data_p/(mc_p_TTJets+mc_p_ST+mc_p_VV+mc_p_TTV+mc_p_VJets)).plot(ax=ax2,show_errors=True,label='')\n",
    "ax2.set_ylabel(r\"$\\frac{Data}{MC}$\",fontsize=18)\n",
    "ax2.set_ylim(0.3,1.7)\n",
    "ax2.yaxis.set_minor_locator(AutoMinorLocator())\n",
    "plt.plot(one_x,one,'k--')"
   ]
  },
  {
   "cell_type": "code",
   "execution_count": null,
   "metadata": {},
   "outputs": [],
   "source": [
    "bins = np.linspace(0,300,10)\n",
    "mc_p_TTJets = Hist1D(mc_c_TTJets.trailing_lep_pt,weights=comb_w_TTJets,bins=bins,label='TTJets['+str(round(sum(comb_w_TTJets)))+']',color='gold')\n",
    "mc_pe_TTJets = Hist1D(mc_c_TTJets.trailing_lep_pt,weights=comb_w_TTJets,bins=bins,color='orange')\n",
    "mc_p_ST = Hist1D(mc_c_ST.trailing_lep_pt,weights=comb_w_ST,bins=bins,label='ST['+str(round(sum(comb_w_ST)))+']',color='steelblue')\n",
    "mc_p_VV = Hist1D(mc_c_VV.trailing_lep_pt,weights=comb_w_VV,bins=bins,label='VV['+str(round(sum(comb_w_VV)))+']',color='red')\n",
    "mc_p_TTV = Hist1D(mc_c_TTV.trailing_lep_pt,weights=comb_w_TTV,bins=bins,label='TTV['+str(round(sum(comb_w_TTV)))+']',color='green')\n",
    "mc_p_VJets = Hist1D(mc_c_VJets.trailing_lep_pt,weights=comb_w_VJets,bins=bins,label='VJets['+str(round(sum(comb_w_VJets)))+']',color='purple')\n",
    "data_p = Hist1D(data_c.trailing_lep_pt,bins=bins,label='Data['+str(len(data_c))+']',color='black')\n",
    "one = np.ones(50)\n",
    "one_x = np.linspace(0,300)\n",
    "#Plot\n",
    "fig,(ax1,ax2) = plt.subplots(2,sharex=True,figsize=(10,10),gridspec_kw=dict(height_ratios=[5, 2]))\n",
    "plot_stack([mc_p_VJets, mc_p_TTV, mc_p_ST, mc_p_VV, mc_p_TTJets], ax=ax1)\n",
    "#mc_pe_TTJets.plot(ax=ax1,show_errors=True)\n",
    "ax1.set_ylabel(\"Events\")\n",
    "ax2.set_xlabel(r\"Trailing Lepton Pt\")\n",
    "ax1.yaxis.set_minor_locator(AutoMinorLocator())\n",
    "data_p.plot(ax=ax1,show_errors=True)\n",
    "(data_p/(mc_p_TTJets+mc_p_ST+mc_p_VV+mc_p_TTV+mc_p_VJets)).plot(ax=ax2,show_errors=True,label='')\n",
    "ax2.set_ylabel(r\"$\\frac{Data}{MC}$\",fontsize=18)\n",
    "ax2.set_ylim(0.3,1.7)\n",
    "ax2.yaxis.set_minor_locator(AutoMinorLocator())\n",
    "plt.plot(one_x,one,'k--')"
   ]
  },
  {
   "cell_type": "code",
   "execution_count": null,
   "metadata": {},
   "outputs": [],
   "source": [
    "bins = np.linspace(-3,3,10)\n",
    "mc_p_TTJets = Hist1D(mc_c_TTJets.leading_lep_eta,weights=comb_w_TTJets,bins=bins,label='TTJets['+str(round(sum(comb_w_TTJets)))+']',color='gold')\n",
    "mc_pe_TTJets = Hist1D(mc_c_TTJets.leading_lep_eta,weights=comb_w_TTJets,bins=bins,color='orange')\n",
    "mc_p_ST = Hist1D(mc_c_ST.leading_lep_eta,weights=comb_w_ST,bins=bins,label='ST['+str(round(sum(comb_w_ST)))+']',color='steelblue')\n",
    "mc_p_VV = Hist1D(mc_c_VV.leading_lep_eta,weights=comb_w_VV,bins=bins,label='VV['+str(round(sum(comb_w_VV)))+']',color='red')\n",
    "mc_p_TTV = Hist1D(mc_c_TTV.leading_lep_eta,weights=comb_w_TTV,bins=bins,label='TTV['+str(round(sum(comb_w_TTV)))+']',color='green')\n",
    "mc_p_VJets = Hist1D(mc_c_VJets.leading_lep_eta,weights=comb_w_VJets,bins=bins,label='VJets['+str(round(sum(comb_w_VJets)))+']',color='purple')\n",
    "data_p = Hist1D(data_c.leading_lep_eta,bins=bins,label='Data['+str(len(data_c))+']',color='black')\n",
    "one = np.ones(50)\n",
    "one_x = np.linspace(-3,3)\n",
    "#Plot\n",
    "fig,(ax1,ax2) = plt.subplots(2,sharex=True,figsize=(10,10),gridspec_kw=dict(height_ratios=[5, 2]))\n",
    "plot_stack([mc_p_VJets, mc_p_TTV, mc_p_ST, mc_p_VV, mc_p_TTJets], ax=ax1)\n",
    "#mc_pe_TTJets.plot(ax=ax1,show_errors=True)\n",
    "ax1.set_ylabel(\"Events\")\n",
    "ax2.set_xlabel(r\"Trailing Lepton Eta\")\n",
    "ax1.yaxis.set_minor_locator(AutoMinorLocator())\n",
    "data_p.plot(ax=ax1,show_errors=True)\n",
    "(data_p/(mc_p_TTJets+mc_p_ST+mc_p_VV+mc_p_TTV+mc_p_VJets)).plot(ax=ax2,show_errors=True,label='')\n",
    "ax2.set_ylabel(r\"$\\frac{Data}{MC}$\",fontsize=18)\n",
    "ax2.set_ylim(0.3,1.7)\n",
    "ax2.yaxis.set_minor_locator(AutoMinorLocator())\n",
    "plt.plot(one_x,one,'k--')"
   ]
  },
  {
   "cell_type": "code",
   "execution_count": null,
   "metadata": {},
   "outputs": [],
   "source": [
    "bins = np.linspace(-3,3,10)\n",
    "mc_p_TTJets = Hist1D(mc_c_TTJets.trailing_lep_eta,weights=comb_w_TTJets,bins=bins,label='TTJets['+str(round(sum(comb_w_TTJets)))+']',color='gold')\n",
    "mc_pe_TTJets = Hist1D(mc_c_TTJets.trailing_lep_eta,weights=comb_w_TTJets,bins=bins,color='orange')\n",
    "mc_p_ST = Hist1D(mc_c_ST.trailing_lep_eta,weights=comb_w_ST,bins=bins,label='ST['+str(round(sum(comb_w_ST)))+']',color='steelblue')\n",
    "mc_p_VV = Hist1D(mc_c_VV.trailing_lep_eta,weights=comb_w_VV,bins=bins,label='VV['+str(round(sum(comb_w_VV)))+']',color='red')\n",
    "mc_p_TTV = Hist1D(mc_c_TTV.trailing_lep_eta,weights=comb_w_TTV,bins=bins,label='TTV['+str(round(sum(comb_w_TTV)))+']',color='green')\n",
    "mc_p_VJets = Hist1D(mc_c_VJets.trailing_lep_eta,weights=comb_w_VJets,bins=bins,label='VJets['+str(round(sum(comb_w_VJets)))+']',color='purple')\n",
    "data_p = Hist1D(data_c.trailing_lep_eta,bins=bins,label='Data['+str(len(data_c))+']',color='black')\n",
    "one = np.ones(50)\n",
    "one_x = np.linspace(-3,3)\n",
    "#Plot\n",
    "fig,(ax1,ax2) = plt.subplots(2,sharex=True,figsize=(10,10),gridspec_kw=dict(height_ratios=[5, 2]))\n",
    "plot_stack([mc_p_VJets, mc_p_TTV, mc_p_ST, mc_p_VV, mc_p_TTJets], ax=ax1)\n",
    "#mc_pe_TTJets.plot(ax=ax1,show_errors=True)\n",
    "ax1.set_ylabel(\"Events\")\n",
    "ax2.set_xlabel(r\"Trailing Lepton Eta\")\n",
    "ax1.yaxis.set_minor_locator(AutoMinorLocator())\n",
    "data_p.plot(ax=ax1,show_errors=True)\n",
    "(data_p/(mc_p_TTJets+mc_p_ST+mc_p_VV+mc_p_TTV+mc_p_VJets)).plot(ax=ax2,show_errors=True,label='')\n",
    "ax2.set_ylabel(r\"$\\frac{Data}{MC}$\",fontsize=18)\n",
    "ax2.set_ylim(0.3,1.7)\n",
    "ax2.yaxis.set_minor_locator(AutoMinorLocator())\n",
    "plt.plot(one_x,one,'k--')"
   ]
  },
  {
   "cell_type": "code",
   "execution_count": null,
   "metadata": {},
   "outputs": [],
   "source": [
    "bins = np.linspace(-3,3,10)\n",
    "mc_p_TTJets = Hist1D(mc_c_TTJets.leading_lep_phi,weights=comb_w_TTJets,bins=bins,label='TTJets['+str(round(sum(comb_w_TTJets)))+']',color='gold')\n",
    "mc_pe_TTJets = Hist1D(mc_c_TTJets.leading_lep_phi,weights=comb_w_TTJets,bins=bins,color='orange')\n",
    "mc_p_ST = Hist1D(mc_c_ST.leading_lep_phi,weights=comb_w_ST,bins=bins,label='ST['+str(round(sum(comb_w_ST)))+']',color='steelblue')\n",
    "mc_p_VV = Hist1D(mc_c_VV.leading_lep_phi,weights=comb_w_VV,bins=bins,label='VV['+str(round(sum(comb_w_VV)))+']',color='red')\n",
    "mc_p_TTV = Hist1D(mc_c_TTV.leading_lep_phi,weights=comb_w_TTV,bins=bins,label='TTV['+str(round(sum(comb_w_TTV)))+']',color='green')\n",
    "mc_p_VJets = Hist1D(mc_c_VJets.leading_lep_phi,weights=comb_w_VJets,bins=bins,label='VJets['+str(round(sum(comb_w_VJets)))+']',color='purple')\n",
    "data_p = Hist1D(data_c.leading_lep_phi,bins=bins,label='Data['+str(len(data_c))+']',color='black')\n",
    "one = np.ones(50)\n",
    "one_x = np.linspace(-3,3)\n",
    "#Plot\n",
    "fig,(ax1,ax2) = plt.subplots(2,sharex=True,figsize=(10,10),gridspec_kw=dict(height_ratios=[5, 2]))\n",
    "plot_stack([mc_p_VJets, mc_p_TTV, mc_p_ST, mc_p_VV, mc_p_TTJets], ax=ax1)\n",
    "#mc_pe_TTJets.plot(ax=ax1,show_errors=True)\n",
    "ax1.set_ylabel(\"Events\")\n",
    "ax2.set_xlabel(r\"Leading Lepton Phi\")\n",
    "ax1.yaxis.set_minor_locator(AutoMinorLocator())\n",
    "data_p.plot(ax=ax1,show_errors=True)\n",
    "(data_p/(mc_p_TTJets+mc_p_ST+mc_p_VV+mc_p_TTV+mc_p_VJets)).plot(ax=ax2,show_errors=True,label='')\n",
    "ax2.set_ylabel(r\"$\\frac{Data}{MC}$\",fontsize=18)\n",
    "ax2.set_ylim(0.3,1.7)\n",
    "ax2.yaxis.set_minor_locator(AutoMinorLocator())\n",
    "plt.plot(one_x,one,'k--')"
   ]
  },
  {
   "cell_type": "code",
   "execution_count": null,
   "metadata": {},
   "outputs": [],
   "source": [
    "bins = np.linspace(-3,3,10)\n",
    "mc_p_TTJets = Hist1D(mc_c_TTJets.trailing_lep_phi,weights=comb_w_TTJets,bins=bins,label='TTJets['+str(round(sum(comb_w_TTJets)))+']',color='gold')\n",
    "mc_pe_TTJets = Hist1D(mc_c_TTJets.trailing_lep_phi,weights=comb_w_TTJets,bins=bins,color='orange')\n",
    "mc_p_ST = Hist1D(mc_c_ST.trailing_lep_phi,weights=comb_w_ST,bins=bins,label='ST['+str(round(sum(comb_w_ST)))+']',color='steelblue')\n",
    "mc_p_VV = Hist1D(mc_c_VV.trailing_lep_phi,weights=comb_w_VV,bins=bins,label='VV['+str(round(sum(comb_w_VV)))+']',color='red')\n",
    "mc_p_TTV = Hist1D(mc_c_TTV.trailing_lep_phi,weights=comb_w_TTV,bins=bins,label='TTV['+str(round(sum(comb_w_TTV)))+']',color='green')\n",
    "mc_p_VJets = Hist1D(mc_c_VJets.trailing_lep_phi,weights=comb_w_VJets,bins=bins,label='VJets['+str(round(sum(comb_w_VJets)))+']',color='purple')\n",
    "data_p = Hist1D(data_c.trailing_lep_phi,bins=bins,label='Data['+str(len(data_c))+']',color='black')\n",
    "one = np.ones(50)\n",
    "one_x = np.linspace(-3,3)\n",
    "#Plot\n",
    "fig,(ax1,ax2) = plt.subplots(2,sharex=True,figsize=(10,10),gridspec_kw=dict(height_ratios=[5, 2]))\n",
    "plot_stack([mc_p_VJets, mc_p_TTV, mc_p_ST, mc_p_VV, mc_p_TTJets], ax=ax1)\n",
    "#mc_pe_TTJets.plot(ax=ax1,show_errors=True)\n",
    "ax1.set_ylabel(\"Events\")\n",
    "ax2.set_xlabel(r\"Trailing Lepton Phi\")\n",
    "ax1.yaxis.set_minor_locator(AutoMinorLocator())\n",
    "data_p.plot(ax=ax1,show_errors=True)\n",
    "(data_p/(mc_p_TTJets+mc_p_ST+mc_p_VV+mc_p_TTV+mc_p_VJets)).plot(ax=ax2,show_errors=True,label='')\n",
    "ax2.set_ylabel(r\"$\\frac{Data}{MC}$\",fontsize=18)\n",
    "ax2.set_ylim(0.3,1.7)\n",
    "ax2.yaxis.set_minor_locator(AutoMinorLocator())\n",
    "plt.plot(one_x,one,'k--')"
   ]
  }
 ],
 "metadata": {
  "kernelspec": {
   "display_name": "Python 3",
   "language": "python",
   "name": "python3"
  },
  "language_info": {
   "codemirror_mode": {
    "name": "ipython",
    "version": 3
   },
   "file_extension": ".py",
   "mimetype": "text/x-python",
   "name": "python",
   "nbconvert_exporter": "python",
   "pygments_lexer": "ipython3",
   "version": "3.7.7"
  }
 },
 "nbformat": 4,
 "nbformat_minor": 4
}
