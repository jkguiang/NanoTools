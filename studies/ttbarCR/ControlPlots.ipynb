{
 "cells": [
  {
   "cell_type": "code",
   "execution_count": 1,
   "metadata": {},
   "outputs": [],
   "source": [
    "import matplotlib.pyplot as plt\n",
    "import numpy as np\n",
    "import pandas\n",
    "import uproot\n",
    "from yahist import Hist1D\n",
    "from yahist.utils import plot_stack\n",
    "from matplotlib.ticker import AutoMinorLocator\n",
    "import os\n",
    "from os import listdir\n",
    "from os.path import isfile, join"
   ]
  },
  {
   "cell_type": "code",
   "execution_count": 2,
   "metadata": {},
   "outputs": [],
   "source": [
    "# matplotlob params\n",
    "params = {'legend.fontsize': 'x-large',\n",
    "          'figure.figsize': (15, 5),\n",
    "          'axes.labelsize': 'x-large',\n",
    "          'axes.titlesize':'x-large',\n",
    "          'xtick.labelsize':'x-large',\n",
    "          'ytick.labelsize':'x-large'}\n",
    "plt.rcParams.update(params)"
   ]
  },
  {
   "cell_type": "code",
   "execution_count": 3,
   "metadata": {},
   "outputs": [],
   "source": [
    "# functions for reading files\n",
    "path_to_mc_TTJets = \"/hadoop/cms/store/user/jguiang/ttbarCR/babies/TTJets/\"\n",
    "mc_dirs_TTJets = [f.path for f in os.scandir(path_to_mc_TTJets) if f.is_dir() and 'v5-0-0' in f.path]\n",
    "mc_files_list_TTJets = lambda i : [f for f in listdir(mc_dirs_TTJets[i]) if isfile(join(mc_dirs_TTJets[i], f))]\n",
    "def mc_files_TTJets(i,j):\n",
    "    return uproot.open(mc_dirs_TTJets[i] + '/' + mc_files_list_TTJets(i)[j]).get(\"tree\").pandas.df(flatten=False)\n",
    "def mc_nevents_TTJets(i,j):\n",
    "    return uproot.open(mc_dirs_TTJets[i] + '/' + mc_files_list_TTJets(i)[j]).get(\"n_events\").allvalues[1]\n",
    "\n",
    "path_to_mc_ST = \"/hadoop/cms/store/user/jguiang/ttbarCR/babies/ST/\"\n",
    "mc_dirs_ST = [f.path for f in os.scandir(path_to_mc_ST) if f.is_dir() and 'v5-0-0' in f.path]\n",
    "mc_files_list_ST = lambda i : [f for f in listdir(mc_dirs_ST[i]) if isfile(join(mc_dirs_ST[i], f))]\n",
    "def mc_files_ST(i,j):\n",
    "    return uproot.open(mc_dirs_ST[i] + '/' + mc_files_list_ST(i)[j]).get(\"tree\").pandas.df(flatten=False)\n",
    "def mc_nevents_ST(i,j):\n",
    "    return uproot.open(mc_dirs_ST[i] + '/' + mc_files_list_ST(i)[j]).get(\"n_events\").allvalues[1]\n",
    "\n",
    "path_to_mc_VV = \"/hadoop/cms/store/user/jguiang/ttbarCR/babies/VV/\"\n",
    "mc_dirs_VV = [f.path for f in os.scandir(path_to_mc_VV) if f.is_dir() and 'v5-0-0' in f.path]\n",
    "mc_files_list_VV = lambda i : [f for f in listdir(mc_dirs_VV[i]) if isfile(join(mc_dirs_VV[i], f))]\n",
    "def mc_files_VV(i,j):\n",
    "    return uproot.open(mc_dirs_VV[i] + '/' + mc_files_list_VV(i)[j]).get(\"tree\").pandas.df(flatten=False)\n",
    "def mc_nevents_VV(i,j):\n",
    "    return uproot.open(mc_dirs_VV[i] + '/' + mc_files_list_VV(i)[j]).get(\"n_events\").allvalues[1]\n",
    "\n",
    "path_to_mc_TTV = \"/hadoop/cms/store/user/jguiang/ttbarCR/babies/TTV/\"\n",
    "mc_dirs_TTV = [f.path for f in os.scandir(path_to_mc_TTV) if f.is_dir() and 'v5-0-0' in f.path]\n",
    "mc_files_list_TTV = lambda i : [f for f in listdir(mc_dirs_TTV[i]) if isfile(join(mc_dirs_TTV[i], f))]\n",
    "def mc_files_TTV(i,j):\n",
    "    return uproot.open(mc_dirs_TTV[i] + '/' + mc_files_list_TTV(i)[j]).get(\"tree\").pandas.df(flatten=False)\n",
    "def mc_nevents_TTV(i,j):\n",
    "    return uproot.open(mc_dirs_TTV[i] + '/' + mc_files_list_TTV(i)[j]).get(\"n_events\").allvalues[1]\n",
    "\n",
    "path_to_mc_VJets = \"/hadoop/cms/store/user/jguiang/ttbarCR/babies/VJets/\"\n",
    "mc_dirs_VJets = [f.path for f in os.scandir(path_to_mc_VJets) if f.is_dir() and 'v5-0-0' in f.path]\n",
    "mc_files_list_VJets = lambda i : [f for f in listdir(mc_dirs_VJets[i]) if isfile(join(mc_dirs_VJets[i], f))]\n",
    "def mc_files_VJets(i,j):\n",
    "    return uproot.open(mc_dirs_VJets[i] + '/' + mc_files_list_VJets(i)[j]).get(\"tree\").pandas.df(flatten=False)\n",
    "def mc_nevents_VJets(i,j):\n",
    "    return uproot.open(mc_dirs_VJets[i] + '/' + mc_files_list_VJets(i)[j]).get(\"n_events\").allvalues[1]\n",
    "\n",
    "path_to_data = \"/hadoop/cms/store/user/jguiang/ttbarCR/babies/MuonEG/\"\n",
    "data_dirs = [f.path for f in os.scandir(path_to_data) if f.is_dir() and 'v5-0-0' in f.path]\n",
    "data_files_list = lambda i : [f for f in listdir(data_dirs[i]) if isfile(join(data_dirs[i], f))]\n",
    "def data_files(i,j):\n",
    "    return uproot.open(data_dirs[i] + '/' + data_files_list(i)[j]).get(\"tree\").pandas.df(flatten=False)"
   ]
  },
  {
   "cell_type": "code",
   "execution_count": 4,
   "metadata": {},
   "outputs": [],
   "source": [
    "# making list w/ functions above\n",
    "mc_list_TTJets = [mc_files_TTJets(i,j) for i in range(len(mc_dirs_TTJets)) for j in range(len(mc_files_list_TTJets(i)))]"
   ]
  },
  {
   "cell_type": "code",
   "execution_count": 5,
   "metadata": {},
   "outputs": [],
   "source": [
    "mc_list_ST = [mc_files_ST(i,j) for i in range(len(mc_dirs_ST)) for j in range(len(mc_files_list_ST(i)))]"
   ]
  },
  {
   "cell_type": "code",
   "execution_count": 6,
   "metadata": {},
   "outputs": [],
   "source": [
    "mc_list_VV = [mc_files_VV(i,j) for i in range(len(mc_dirs_VV)) for j in range(len(mc_files_list_VV(i)))]"
   ]
  },
  {
   "cell_type": "code",
   "execution_count": 7,
   "metadata": {},
   "outputs": [],
   "source": [
    "mc_list_TTV = [mc_files_TTV(i,j) for i in range(len(mc_dirs_TTV)) for j in range(len(mc_files_list_TTV(i)))]"
   ]
  },
  {
   "cell_type": "code",
   "execution_count": 8,
   "metadata": {},
   "outputs": [],
   "source": [
    "mc_list_VJets = [mc_files_VJets(i,j) for i in range(len(mc_dirs_VJets)) for j in range(len(mc_files_list_VJets(i)))]"
   ]
  },
  {
   "cell_type": "code",
   "execution_count": 9,
   "metadata": {},
   "outputs": [],
   "source": [
    "data_list = [data_files(i,j) for i in range(len(data_dirs)) for j in range(len(data_files_list(i)))]"
   ]
  },
  {
   "cell_type": "code",
   "execution_count": 10,
   "metadata": {},
   "outputs": [],
   "source": [
    "n_events_list_TTJets = [sum([mc_nevents_TTJets(i,j) for j in range(len(mc_files_list_TTJets(i)))]) for i in range(len(mc_dirs_TTJets))]"
   ]
  },
  {
   "cell_type": "code",
   "execution_count": 11,
   "metadata": {},
   "outputs": [],
   "source": [
    "n_events_list_ST = [sum([mc_nevents_ST(i,j) for j in range(len(mc_files_list_ST(i)))]) for i in range(len(mc_dirs_ST))]"
   ]
  },
  {
   "cell_type": "code",
   "execution_count": 12,
   "metadata": {},
   "outputs": [],
   "source": [
    "n_events_list_VV = [sum([mc_nevents_VV(i,j) for j in range(len(mc_files_list_VV(i)))]) for i in range(len(mc_dirs_VV))]"
   ]
  },
  {
   "cell_type": "code",
   "execution_count": 13,
   "metadata": {},
   "outputs": [],
   "source": [
    "n_events_list_TTV = [sum([mc_nevents_TTV(i,j) for j in range(len(mc_files_list_TTV(i)))]) for i in range(len(mc_dirs_TTV))]"
   ]
  },
  {
   "cell_type": "code",
   "execution_count": 14,
   "metadata": {},
   "outputs": [],
   "source": [
    "n_events_list_VJets = [sum([mc_nevents_VJets(i,j) for j in range(len(mc_files_list_VJets(i)))]) for i in range(len(mc_dirs_VJets))]"
   ]
  },
  {
   "cell_type": "code",
   "execution_count": 15,
   "metadata": {},
   "outputs": [],
   "source": [
    "# Add xsec & n_events branch TTJets\n",
    "a = len(mc_files_list_TTJets(0))\n",
    "b = a + len(mc_files_list_TTJets(1))\n",
    "c = len(mc_list_TTJets)\n",
    "\n",
    "for i in range(a):\n",
    "    mc_list_TTJets[i].insert(1,'xsec',87.3)\n",
    "    mc_list_TTJets[i].insert(2,'n_events',n_events_list_TTJets[0])\n",
    "for i in range(a, b):\n",
    "    mc_list_TTJets[i].insert(1,'xsec',182.7)\n",
    "    mc_list_TTJets[i].insert(2,'n_events',n_events_list_TTJets[1])\n",
    "for i in range(b, c):\n",
    "    mc_list_TTJets[i].insert(1,'xsec',182.7)\n",
    "    mc_list_TTJets[i].insert(2,'n_events',n_events_list_TTJets[2])"
   ]
  },
  {
   "cell_type": "code",
   "execution_count": 16,
   "metadata": {},
   "outputs": [],
   "source": [
    "# ST\n",
    "a = len(mc_files_list_ST(0))\n",
    "b = a + len(mc_files_list_ST(1))\n",
    "c = b + len(mc_files_list_ST(2))\n",
    "d = c + len(mc_files_list_ST(3))\n",
    "e = len(mc_list_ST)\n",
    "\n",
    "for i in range(a):\n",
    "    mc_list_ST[i].insert(1,'xsec',3.7)\n",
    "    mc_list_ST[i].insert(2,'n_events',n_events_list_ST[0])\n",
    "for i in range(a,b):\n",
    "    mc_list_ST[i].insert(1,'xsec',80.95)\n",
    "    mc_list_ST[i].insert(2,'n_events',n_events_list_ST[1])\n",
    "for i in range(b,c):\n",
    "    mc_list_ST[i].insert(1,'xsec',136.02)\n",
    "    mc_list_ST[i].insert(2,'n_events',n_events_list_ST[2])\n",
    "for i in range(c,d):\n",
    "    mc_list_ST[i].insert(1,'xsec',19.6)\n",
    "    mc_list_ST[i].insert(2,'n_events',n_events_list_ST[3])\n",
    "for i in range(d,e):\n",
    "    mc_list_ST[i].insert(1,'xsec',19.6)\n",
    "    mc_list_ST[i].insert(2,'n_events',n_events_list_ST[4])"
   ]
  },
  {
   "cell_type": "code",
   "execution_count": 17,
   "metadata": {},
   "outputs": [],
   "source": [
    "# VV\n",
    "a = len(mc_files_list_VV(0))\n",
    "b = a + len(mc_files_list_VV(1))\n",
    "c = b + len(mc_files_list_VV(2))\n",
    "d = c + len(mc_files_list_VV(3))\n",
    "e = d + len(mc_files_list_VV(4))\n",
    "f = e + len(mc_files_list_VV(5))\n",
    "g = f + len(mc_files_list_VV(6))\n",
    "h = g + len(mc_files_list_VV(7))\n",
    "j = h + len(mc_files_list_VV(8))\n",
    "k = j + len(mc_files_list_VV(9))\n",
    "\n",
    "for i in range(a):\n",
    "    mc_list_VV[i].insert(1,'xsec',12.18)\n",
    "    mc_list_VV[i].insert(2,'n_events',n_events_list_VV[0])\n",
    "for i in range(a,b):\n",
    "    mc_list_VV[i].insert(1,'xsec',50.00)\n",
    "    mc_list_VV[i].insert(2,'n_events',n_events_list_VV[1])\n",
    "for i in range(b,c):\n",
    "    mc_list_VV[i].insert(1,'xsec',10.74)\n",
    "    mc_list_VV[i].insert(2,'n_events',n_events_list_VV[2])\n",
    "for i in range(c,d):\n",
    "    mc_list_VV[i].insert(1,'xsec',3.05)\n",
    "    mc_list_VV[i].insert(2,'n_events',n_events_list_VV[3])\n",
    "for i in range(d,e):\n",
    "    mc_list_VV[i].insert(1,'xsec',5.60)\n",
    "    mc_list_VV[i].insert(2,'n_events',n_events_list_VV[4])\n",
    "for i in range(e,f):\n",
    "    mc_list_VV[i].insert(1,'xsec',4.43)\n",
    "    mc_list_VV[i].insert(2,'n_events',n_events_list_VV[5])\n",
    "for i in range(f,g):\n",
    "    mc_list_VV[i].insert(1,'xsec',0.56)\n",
    "    mc_list_VV[i].insert(2,'n_events',n_events_list_VV[6])\n",
    "for i in range(g,h):\n",
    "    mc_list_VV[i].insert(1,'xsec',3.22)\n",
    "    mc_list_VV[i].insert(2,'n_events',n_events_list_VV[7])\n",
    "for i in range(h,j):\n",
    "    mc_list_VV[i].insert(1,'xsec',4.73)\n",
    "    mc_list_VV[i].insert(2,'n_events',n_events_list_VV[8])\n",
    "for i in range(j,k):\n",
    "    mc_list_VV[i].insert(1,'xsec',1.25)\n",
    "    mc_list_VV[i].insert(2,'n_events',n_events_list_VV[9])"
   ]
  },
  {
   "cell_type": "code",
   "execution_count": 18,
   "metadata": {},
   "outputs": [],
   "source": [
    "# TTV\n",
    "a = len(mc_files_list_TTV(0))\n",
    "b = a + len(mc_files_list_TTV(1))\n",
    "c = b + len(mc_files_list_TTV(2))\n",
    "d = c + len(mc_files_list_TTV(3))\n",
    "\n",
    "for i in range(a):\n",
    "    mc_list_TTV[i].insert(1,'xsec',0.20)\n",
    "    mc_list_TTV[i].insert(2,'n_events',n_events_list_TTV[0])\n",
    "for i in range(a,b):\n",
    "    mc_list_TTV[i].insert(1,'xsec',0.40)\n",
    "    mc_list_TTV[i].insert(2,'n_events',n_events_list_TTV[1])\n",
    "for i in range(b,c):\n",
    "    mc_list_TTV[i].insert(1,'xsec',0.25)\n",
    "    mc_list_TTV[i].insert(2,'n_events',n_events_list_TTV[2])\n",
    "for i in range(c,d):\n",
    "    mc_list_TTV[i].insert(1,'xsec',0.53)\n",
    "    mc_list_TTV[i].insert(2,'n_events',n_events_list_TTV[3])"
   ]
  },
  {
   "cell_type": "code",
   "execution_count": 19,
   "metadata": {},
   "outputs": [],
   "source": [
    "# VJets\n",
    "a = len(mc_files_list_VJets(0))\n",
    "b = a + len(mc_files_list_VJets(1))\n",
    "c = b + len(mc_files_list_VJets(2))\n",
    "d = c + len(mc_files_list_VJets(3))\n",
    "e = d + len(mc_files_list_VJets(4))\n",
    "f = e + len(mc_files_list_VJets(5))\n",
    "g = f + len(mc_files_list_VJets(6))\n",
    "h = g + len(mc_files_list_VJets(7))\n",
    "j = h + len(mc_files_list_VJets(8))\n",
    "\n",
    "for i in range(a):\n",
    "    mc_list_VJets[i].insert(1,'xsec',6021)\n",
    "    mc_list_VJets[i].insert(2,'n_events',n_events_list_VJets[0])\n",
    "for i in range(a,b):\n",
    "    mc_list_VJets[i].insert(1,'xsec',2.36)\n",
    "    mc_list_VJets[i].insert(2,'n_events',n_events_list_VJets[1])\n",
    "for i in range(b,c):\n",
    "    mc_list_VJets[i].insert(1,'xsec',11752)\n",
    "    mc_list_VJets[i].insert(2,'n_events',n_events_list_VJets[2])\n",
    "for i in range(c,d):\n",
    "    mc_list_VJets[i].insert(1,'xsec',4.95)\n",
    "    mc_list_VJets[i].insert(2,'n_events',n_events_list_VJets[3])\n",
    "for i in range(d,e):\n",
    "    mc_list_VJets[i].insert(1,'xsec',3841)\n",
    "    mc_list_VJets[i].insert(2,'n_events',n_events_list_VJets[4])\n",
    "for i in range(e,f):\n",
    "    mc_list_VJets[i].insert(1,'xsec',4.94)\n",
    "    mc_list_VJets[i].insert(2,'n_events',n_events_list_VJets[5])\n",
    "for i in range(f,g):\n",
    "    mc_list_VJets[i].insert(1,'xsec',1160)\n",
    "    mc_list_VJets[i].insert(2,'n_events',n_events_list_VJets[6])\n",
    "for i in range(g,h):\n",
    "    mc_list_VJets[i].insert(1,'xsec',8.83)\n",
    "    mc_list_VJets[i].insert(2,'n_events',n_events_list_VJets[7])\n",
    "for i in range(h,j):\n",
    "    mc_list_VJets[i].insert(1,'xsec',600)\n",
    "    mc_list_VJets[i].insert(2,'n_events',n_events_list_VJets[8])"
   ]
  },
  {
   "cell_type": "code",
   "execution_count": 20,
   "metadata": {},
   "outputs": [],
   "source": [
    "# concat to make df\n",
    "mc_c_TTJets = pandas.concat(mc_list_TTJets)\n",
    "mc_c_ST = pandas.concat(mc_list_ST)\n",
    "mc_c_VV = pandas.concat(mc_list_VV)\n",
    "mc_c_TTV = pandas.concat(mc_list_TTV)\n",
    "mc_c_VJets = pandas.concat(mc_list_VJets)\n",
    "data_c = pandas.concat(data_list)"
   ]
  },
  {
   "cell_type": "code",
   "execution_count": 21,
   "metadata": {},
   "outputs": [],
   "source": [
    "#mc_c = mc[mc['num_btags_tight'] >= 2]\n",
    "#data_c = data[data['num_btags_tight'] >= 2] "
   ]
  },
  {
   "cell_type": "code",
   "execution_count": 22,
   "metadata": {},
   "outputs": [],
   "source": [
    "xsec_weight_TTJets = mc_c_TTJets.gen_weight * mc_c_TTJets.xsec * 35920 / mc_c_TTJets.n_events\n",
    "comb_w_TTJets = mc_c_TTJets.mc_weight * mc_c_TTJets.mc_tight_btag_weight * xsec_weight_TTJets"
   ]
  },
  {
   "cell_type": "code",
   "execution_count": 23,
   "metadata": {},
   "outputs": [],
   "source": [
    "xsec_weight_ST = mc_c_ST.gen_weight * mc_c_ST.xsec * 35920 / mc_c_ST.n_events\n",
    "comb_w_ST = mc_c_ST.mc_weight * mc_c_ST.mc_tight_btag_weight * xsec_weight_ST"
   ]
  },
  {
   "cell_type": "code",
   "execution_count": 24,
   "metadata": {},
   "outputs": [],
   "source": [
    "xsec_weight_VV = mc_c_VV.gen_weight * mc_c_VV.xsec * 35920 / mc_c_VV.n_events\n",
    "comb_w_VV = mc_c_VV.mc_weight * mc_c_VV.mc_tight_btag_weight * xsec_weight_VV"
   ]
  },
  {
   "cell_type": "code",
   "execution_count": 25,
   "metadata": {},
   "outputs": [],
   "source": [
    "xsec_weight_TTV = mc_c_TTV.gen_weight * mc_c_TTV.xsec * 35920 / mc_c_TTV.n_events\n",
    "comb_w_TTV = mc_c_TTV.mc_weight * mc_c_TTV.mc_tight_btag_weight * xsec_weight_TTV"
   ]
  },
  {
   "cell_type": "code",
   "execution_count": 26,
   "metadata": {},
   "outputs": [],
   "source": [
    "xsec_weight_VJets = mc_c_VJets.gen_weight * mc_c_VJets.xsec * 35920 / mc_c_VJets.n_events\n",
    "comb_w_VJets = mc_c_VJets.mc_weight * mc_c_VJets.mc_tight_btag_weight * xsec_weight_VJets"
   ]
  },
  {
   "cell_type": "code",
   "execution_count": 27,
   "metadata": {},
   "outputs": [
    {
     "data": {
      "text/plain": [
       "[<matplotlib.lines.Line2D at 0x7fcc3cbdd9d0>]"
      ]
     },
     "execution_count": 27,
     "metadata": {},
     "output_type": "execute_result"
    },
    {
     "data": {
      "image/png": "[encoded data removed]",
      "text/plain": [
       "<Figure size 720x720 with 2 Axes>"
      ]
     },
     "metadata": {
      "needs_background": "light"
     },
     "output_type": "display_data"
    }
   ],
   "source": [
    "bins = np.linspace(0,350,10)\n",
    "mc_p_TTJets = Hist1D(mc_c_TTJets.met,weights=comb_w_TTJets,bins=bins,label='TTJets['+str(round(sum(comb_w_TTJets)))+']',color='gold')\n",
    "mc_pe_TTJets = Hist1D(mc_c_TTJets.met,weights=comb_w_TTJets,bins=bins,color='orange')\n",
    "mc_p_ST = Hist1D(mc_c_ST.met,weights=comb_w_ST,bins=bins,label='ST['+str(round(sum(comb_w_ST)))+']',color='steelblue')\n",
    "mc_p_VV = Hist1D(mc_c_VV.met,weights=comb_w_VV,bins=bins,label='VV['+str(round(sum(comb_w_VV)))+']',color='red')\n",
    "mc_p_TTV = Hist1D(mc_c_TTV.met,weights=comb_w_TTV,bins=bins,label='TTV['+str(round(sum(comb_w_TTV)))+']',color='green')\n",
    "mc_p_VJets = Hist1D(mc_c_VJets.met,weights=comb_w_VJets,bins=bins,label='VJets['+str(round(sum(comb_w_VJets)))+']',color='purple')\n",
    "data_p = Hist1D(data_c.met,bins=bins,label='Data['+str(len(data_c))+']',color='black')\n",
    "one = np.ones(50)\n",
    "one_x = np.linspace(0,350)\n",
    "#Plot\n",
    "fig,(ax1,ax2) = plt.subplots(2,sharex=True,figsize=(10,10),gridspec_kw=dict(height_ratios=[5, 2]))\n",
    "plot_stack([mc_p_VJets, mc_p_TTV, mc_p_ST, mc_p_VV, mc_p_TTJets], ax=ax1)\n",
    "#mc_pe_TTJets.plot(ax=ax1,show_errors=True)\n",
    "ax1.set_ylabel(\"Events\")\n",
    "ax2.set_xlabel(r\"MET\")\n",
    "ax1.yaxis.set_minor_locator(AutoMinorLocator())\n",
    "data_p.plot(ax=ax1,show_errors=True)\n",
    "(data_p/(mc_p_TTJets+mc_p_ST+mc_p_VV+mc_p_TTV+mc_p_VJets)).plot(ax=ax2,show_errors=True,label='')\n",
    "ax2.set_ylabel(r\"$\\frac{Data}{MC}$\",fontsize=18)\n",
    "ax2.set_ylim(0.3,1.7)\n",
    "ax2.yaxis.set_minor_locator(AutoMinorLocator())\n",
    "plt.plot(one_x,one,'k--')"
   ]
  },
  {
   "cell_type": "code",
   "execution_count": 28,
   "metadata": {},
   "outputs": [
    {
     "data": {
      "text/plain": [
       "[<matplotlib.lines.Line2D at 0x7fcc3cc0f110>]"
      ]
     },
     "execution_count": 28,
     "metadata": {},
     "output_type": "execute_result"
    },
    {
     "data": {
      "image/png": "[encoded data removed]",
      "text/plain": [
       "<Figure size 720x720 with 2 Axes>"
      ]
     },
     "metadata": {
      "needs_background": "light"
     },
     "output_type": "display_data"
    }
   ],
   "source": [
    "bins = np.linspace(0,2000,20)\n",
    "mc_p_TTJets = Hist1D(mc_c_TTJets.vbs_dijet_mass,weights=comb_w_TTJets,bins=bins,label='TTJets['+str(round(sum(comb_w_TTJets)))+']',color='gold')\n",
    "mc_pe_TTJets = Hist1D(mc_c_TTJets.vbs_dijet_mass,weights=comb_w_TTJets,bins=bins,color='orange')\n",
    "mc_p_ST = Hist1D(mc_c_ST.vbs_dijet_mass,weights=comb_w_ST,bins=bins,label='ST['+str(round(sum(comb_w_ST)))+']',color='steelblue')\n",
    "mc_p_VV = Hist1D(mc_c_VV.vbs_dijet_mass,weights=comb_w_VV,bins=bins,label='VV['+str(round(sum(comb_w_VV)))+']',color='red')\n",
    "mc_p_TTV = Hist1D(mc_c_TTV.vbs_dijet_mass,weights=comb_w_TTV,bins=bins,label='TTV['+str(round(sum(comb_w_TTV)))+']',color='green')\n",
    "mc_p_VJets = Hist1D(mc_c_VJets.vbs_dijet_mass,weights=comb_w_VJets,bins=bins,label='VJets['+str(round(sum(comb_w_VJets)))+']',color='purple')\n",
    "data_p = Hist1D(data_c.vbs_dijet_mass,bins=bins,label='Data['+str(len(data_c))+']',color='black')\n",
    "one = np.ones(50)\n",
    "one_x = np.linspace(0,2000)\n",
    "#Plot\n",
    "fig,(ax1,ax2) = plt.subplots(2,sharex=True,figsize=(10,10),gridspec_kw=dict(height_ratios=[5, 2]))\n",
    "plot_stack([mc_p_VJets, mc_p_TTV, mc_p_ST, mc_p_VV, mc_p_TTJets], ax=ax1)\n",
    "#mc_pe_TTJets.plot(ax=ax1,show_errors=True)\n",
    "ax1.set_ylabel(\"Events\")\n",
    "ax2.set_xlabel(r\"DiJet Mass\")\n",
    "ax1.yaxis.set_minor_locator(AutoMinorLocator())\n",
    "data_p.plot(ax=ax1,show_errors=True)\n",
    "(data_p/(mc_p_TTJets+mc_p_ST+mc_p_VV+mc_p_TTV+mc_p_VJets)).plot(ax=ax2,show_errors=True,label='')\n",
    "ax2.set_ylabel(r\"$\\frac{Data}{MC}$\",fontsize=18)\n",
    "ax2.set_ylim(0.3,1.7)\n",
    "ax2.yaxis.set_minor_locator(AutoMinorLocator())\n",
    "plt.plot(one_x,one,'k--')"
   ]
  },
  {
   "cell_type": "code",
   "execution_count": 29,
   "metadata": {},
   "outputs": [
    {
     "data": {
      "text/plain": [
       "[<matplotlib.lines.Line2D at 0x7fcc392b2ed0>]"
      ]
     },
     "execution_count": 29,
     "metadata": {},
     "output_type": "execute_result"
    },
    {
     "data": {
      "image/png": "[encoded data removed]",
      "text/plain": [
       "<Figure size 720x720 with 2 Axes>"
      ]
     },
     "metadata": {
      "needs_background": "light"
     },
     "output_type": "display_data"
    }
   ],
   "source": [
    "bins = np.linspace(0,500,20)\n",
    "mc_p_TTJets = Hist1D(mc_c_TTJets.dilep_mass,weights=comb_w_TTJets,bins=bins,label='TTJets['+str(round(sum(comb_w_TTJets)))+']',color='gold')\n",
    "mc_pe_TTJets = Hist1D(mc_c_TTJets.dilep_mass,weights=comb_w_TTJets,bins=bins,color='orange')\n",
    "mc_p_ST = Hist1D(mc_c_ST.dilep_mass,weights=comb_w_ST,bins=bins,label='ST['+str(round(sum(comb_w_ST)))+']',color='steelblue')\n",
    "mc_p_VV = Hist1D(mc_c_VV.dilep_mass,weights=comb_w_VV,bins=bins,label='VV['+str(round(sum(comb_w_VV)))+']',color='red')\n",
    "mc_p_TTV = Hist1D(mc_c_TTV.dilep_mass,weights=comb_w_TTV,bins=bins,label='TTV['+str(round(sum(comb_w_TTV)))+']',color='green')\n",
    "mc_p_VJets = Hist1D(mc_c_VJets.dilep_mass,weights=comb_w_VJets,bins=bins,label='VJets['+str(round(sum(comb_w_VJets)))+']',color='purple')\n",
    "data_p = Hist1D(data_c.dilep_mass,bins=bins,label='Data['+str(len(data_c))+']',color='black')\n",
    "one = np.ones(50)\n",
    "one_x = np.linspace(0,500)\n",
    "#Plot\n",
    "fig,(ax1,ax2) = plt.subplots(2,sharex=True,figsize=(10,10),gridspec_kw=dict(height_ratios=[5, 2]))\n",
    "plot_stack([mc_p_VJets, mc_p_TTV, mc_p_ST, mc_p_VV, mc_p_TTJets], ax=ax1)\n",
    "#mc_pe_TTJets.plot(ax=ax1,show_errors=True)\n",
    "ax1.set_ylabel(\"Events\")\n",
    "ax2.set_xlabel(r\"DiLepton Mass\")\n",
    "ax1.yaxis.set_minor_locator(AutoMinorLocator())\n",
    "data_p.plot(ax=ax1,show_errors=True)\n",
    "(data_p/(mc_p_TTJets+mc_p_ST+mc_p_VV+mc_p_TTV+mc_p_VJets)).plot(ax=ax2,show_errors=True,label='')\n",
    "ax2.set_ylabel(r\"$\\frac{Data}{MC}$\",fontsize=18)\n",
    "ax2.set_ylim(0.3,1.7)\n",
    "ax2.yaxis.set_minor_locator(AutoMinorLocator())\n",
    "plt.plot(one_x,one,'k--')"
   ]
  },
  {
   "cell_type": "code",
   "execution_count": 30,
   "metadata": {},
   "outputs": [
    {
     "data": {
      "text/plain": [
       "[<matplotlib.lines.Line2D at 0x7fcc3aa2aa90>]"
      ]
     },
     "execution_count": 30,
     "metadata": {},
     "output_type": "execute_result"
    },
    {
     "data": {
      "image/png": "[encoded data removed]",
      "text/plain": [
       "<Figure size 720x720 with 2 Axes>"
      ]
     },
     "metadata": {
      "needs_background": "light"
     },
     "output_type": "display_data"
    }
   ],
   "source": [
    "bins = np.linspace(0,12,13)\n",
    "mc_p_TTJets = Hist1D(mc_c_TTJets.num_jets,weights=comb_w_TTJets,bins=bins,label='TTJets['+str(round(sum(comb_w_TTJets)))+']',color='gold')\n",
    "mc_pe_TTJets = Hist1D(mc_c_TTJets.num_jets,weights=comb_w_TTJets,bins=bins,color='orange')\n",
    "mc_p_ST = Hist1D(mc_c_ST.num_jets,weights=comb_w_ST,bins=bins,label='ST['+str(round(sum(comb_w_ST)))+']',color='steelblue')\n",
    "mc_p_VV = Hist1D(mc_c_VV.num_jets,weights=comb_w_VV,bins=bins,label='VV['+str(round(sum(comb_w_VV)))+']',color='red')\n",
    "mc_p_TTV = Hist1D(mc_c_TTV.num_jets,weights=comb_w_TTV,bins=bins,label='TTV['+str(round(sum(comb_w_TTV)))+']',color='green')\n",
    "mc_p_VJets = Hist1D(mc_c_VJets.num_jets,weights=comb_w_VJets,bins=bins,label='VJets['+str(round(sum(comb_w_VJets)))+']',color='purple')\n",
    "data_p = Hist1D(data_c.num_jets,bins=bins,label='Data['+str(len(data_c))+']',color='black')\n",
    "one = np.ones(50)\n",
    "one_x = np.linspace(0,12)\n",
    "#Plot\n",
    "fig,(ax1,ax2) = plt.subplots(2,sharex=True,figsize=(10,10),gridspec_kw=dict(height_ratios=[5, 2]))\n",
    "plot_stack([mc_p_VJets, mc_p_TTV, mc_p_ST, mc_p_VV, mc_p_TTJets], ax=ax1)\n",
    "#mc_pe_TTJets.plot(ax=ax1,show_errors=True)\n",
    "ax1.set_ylabel(\"Events\")\n",
    "ax2.set_xlabel(r\"Number of Jets\")\n",
    "ax1.yaxis.set_minor_locator(AutoMinorLocator())\n",
    "data_p.plot(ax=ax1,show_errors=True)\n",
    "(data_p/(mc_p_TTJets+mc_p_ST+mc_p_VV+mc_p_TTV+mc_p_VJets)).plot(ax=ax2,show_errors=True,label='')\n",
    "ax2.set_ylabel(r\"$\\frac{Data}{MC}$\",fontsize=18)\n",
    "ax2.set_ylim(0.3,1.7)\n",
    "ax2.yaxis.set_minor_locator(AutoMinorLocator())\n",
    "plt.plot(one_x,one,'k--')"
   ]
  },
  {
   "cell_type": "code",
   "execution_count": null,
   "metadata": {},
   "outputs": [],
   "source": [
    "bins = np.linspace(0,300,10)\n",
    "mc_p = Hist1D(mc_c.leading_lep_pt,weights=comb_w,bins=bins,label='ttbar MC['+str(round(sum(comb_w)))+']',color='yellow')\n",
    "mc_pe = Hist1D(mc_c.leading_lep_pt,weights=comb_w,bins=bins,color='orange')\n",
    "data_p = Hist1D(data_c.leading_lep_pt,bins=bins,label='Data['+str(len(data_c))+']',color='black')\n",
    "one = np.ones(50)\n",
    "one_x = np.linspace(0,300)\n",
    "#Plot\n",
    "fig,(ax1,ax2) = plt.subplots(2,sharex=True,figsize=(10,10),gridspec_kw=dict(height_ratios=[5, 2]))\n",
    "mc_p.plot(ax=ax1)\n",
    "mc_pe.plot(ax=ax1,show_errors=True)\n",
    "ax1.set_ylabel(\"Events\")\n",
    "ax2.set_xlabel(r\"Leading Lepton Pt\")\n",
    "ax1.yaxis.set_minor_locator(AutoMinorLocator())\n",
    "data_p.plot(ax=ax1,show_errors=True)\n",
    "(data_p/mc_p).plot(ax=ax2,show_errors=True,label='')\n",
    "ax2.set_ylabel(r\"$\\frac{Data}{MC}$\",fontsize=18)\n",
    "ax2.set_ylim(0.3,1.7)\n",
    "ax2.yaxis.set_minor_locator(AutoMinorLocator())\n",
    "plt.plot(one_x,one,'k--')"
   ]
  },
  {
   "cell_type": "code",
   "execution_count": null,
   "metadata": {},
   "outputs": [],
   "source": [
    "bins = np.linspace(0,200,10)\n",
    "mc_p = Hist1D(mc_c.trailing_lep_pt,weights=comb_w,bins=bins,label='ttbar MC['+str(round(sum(comb_w)))+']',color='yellow')\n",
    "mc_pe = Hist1D(mc_c.trailing_lep_pt,weights=comb_w,bins=bins,color='orange')\n",
    "data_p = Hist1D(data_c.trailing_lep_pt,bins=bins,label='Data['+str(len(data_c))+']',color='black')\n",
    "one = np.ones(50)\n",
    "\n",
    "one_x = np.linspace(0,200)\n",
    "#Plot\n",
    "fig,(ax1,ax2) = plt.subplots(2,sharex=True,figsize=(10,10),gridspec_kw=dict(height_ratios=[5, 2]))\n",
    "mc_p.plot(ax=ax1)\n",
    "mc_pe.plot(ax=ax1,show_errors=True)\n",
    "ax1.set_ylabel(\"Events\")\n",
    "ax2.set_xlabel(r\"Trailing Lepton Pt\")\n",
    "ax1.yaxis.set_minor_locator(AutoMinorLocator())\n",
    "data_p.plot(ax=ax1,show_errors=True)\n",
    "(data_p/mc_p).plot(ax=ax2,show_errors=True,label='')\n",
    "ax2.set_ylabel(r\"$\\frac{Data}{MC}$\",fontsize=18)\n",
    "ax2.set_ylim(0.3,1.7)\n",
    "ax2.yaxis.set_minor_locator(AutoMinorLocator())\n",
    "plt.plot(one_x,one,'k--')"
   ]
  },
  {
   "cell_type": "code",
   "execution_count": null,
   "metadata": {},
   "outputs": [],
   "source": [
    "bins = np.linspace(-3,3,10)\n",
    "mc_p = Hist1D(mc_c.leading_lep_eta,weights=comb_w,bins=bins,label='ttbar MC['+str(round(sum(comb_w)))+']',color='yellow')\n",
    "mc_pe = Hist1D(mc_c.leading_lep_eta,weights=comb_w,bins=bins,color='orange')\n",
    "data_p = Hist1D(data_c.leading_lep_eta,bins=bins,label='Data['+str(len(data_c))+']',color='black')\n",
    "one = np.ones(50)\n",
    "one_x = np.linspace(-3,3)\n",
    "#Plot\n",
    "fig,(ax1,ax2) = plt.subplots(2,sharex=True,figsize=(10,10),gridspec_kw=dict(height_ratios=[5, 2]))\n",
    "mc_p.plot(ax=ax1)\n",
    "mc_pe.plot(ax=ax1,show_errors=True)\n",
    "ax1.set_ylabel(\"Events\")\n",
    "ax2.set_xlabel(r\"Leading Lepton $\\eta$\")\n",
    "ax1.yaxis.set_minor_locator(AutoMinorLocator())\n",
    "data_p.plot(ax=ax1,show_errors=True)\n",
    "(data_p/mc_p).plot(ax=ax2,show_errors=True,label='')\n",
    "ax2.set_ylabel(r\"$\\frac{Data}{MC}$\",fontsize=18)\n",
    "ax2.set_ylim(0.3,1.7)\n",
    "ax2.yaxis.set_minor_locator(AutoMinorLocator())\n",
    "plt.plot(one_x,one,'k--')"
   ]
  },
  {
   "cell_type": "code",
   "execution_count": null,
   "metadata": {},
   "outputs": [],
   "source": [
    "bins = np.linspace(-3,3,10)\n",
    "mc_p = Hist1D(mc_c.trailing_lep_eta,weights=comb_w,bins=bins,label='ttbar MC['+str(round(sum(comb_w)))+']',color='yellow')\n",
    "mc_pe = Hist1D(mc_c.trailing_lep_eta,weights=comb_w,bins=bins,color='orange')\n",
    "data_p = Hist1D(data_c.trailing_lep_eta,bins=bins,label='Data['+str(len(data_c))+']',color='black')\n",
    "one = np.ones(50)\n",
    "one_x = np.linspace(-3,3)\n",
    "#Plot\n",
    "fig,(ax1,ax2) = plt.subplots(2,sharex=True,figsize=(10,10),gridspec_kw=dict(height_ratios=[5, 2]))\n",
    "mc_p.plot(ax=ax1)\n",
    "mc_pe.plot(ax=ax1,show_errors=True)\n",
    "ax1.set_ylabel(\"Events\")\n",
    "ax2.set_xlabel(r\"Trailing Lepton $\\eta$\")\n",
    "ax1.yaxis.set_minor_locator(AutoMinorLocator())\n",
    "data_p.plot(ax=ax1,show_errors=True)\n",
    "(data_p/mc_p).plot(ax=ax2,show_errors=True,label='')\n",
    "ax2.set_ylabel(r\"$\\frac{Data}{MC}$\",fontsize=18)\n",
    "ax2.set_ylim(0.3,1.7)\n",
    "ax2.yaxis.set_minor_locator(AutoMinorLocator())\n",
    "plt.plot(one_x,one,'k--')"
   ]
  },
  {
   "cell_type": "code",
   "execution_count": null,
   "metadata": {},
   "outputs": [],
   "source": [
    "bins = np.linspace(-4,4,10)\n",
    "mc_p = Hist1D(mc_c.leading_lep_phi,weights=comb_w,bins=bins,label='ttbar MC['+str(round(sum(comb_w)))+']',color='yellow')\n",
    "mc_pe = Hist1D(mc_c.leading_lep_phi,weights=comb_w,bins=bins,color='orange')\n",
    "data_p = Hist1D(data_c.leading_lep_phi,bins=bins,label='Data['+str(len(data_c))+']',color='black')\n",
    "one = np.ones(50)\n",
    "one_x = np.linspace(-4,4)\n",
    "#Plot\n",
    "fig,(ax1,ax2) = plt.subplots(2,sharex=True,figsize=(10,10),gridspec_kw=dict(height_ratios=[5, 2]))\n",
    "mc_p.plot(ax=ax1)\n",
    "mc_pe.plot(ax=ax1,show_errors=True)\n",
    "ax1.set_ylabel(\"Events\")\n",
    "ax2.set_xlabel(r\"Leading Lepton $\\phi$\")\n",
    "ax1.yaxis.set_minor_locator(AutoMinorLocator())\n",
    "data_p.plot(ax=ax1,show_errors=True)\n",
    "(data_p/mc_p).plot(ax=ax2,show_errors=True,label='')\n",
    "ax2.set_ylabel(r\"$\\frac{Data}{MC}$\",fontsize=18)\n",
    "ax2.set_ylim(0.3,1.7)\n",
    "ax2.yaxis.set_minor_locator(AutoMinorLocator())\n",
    "plt.plot(one_x,one,'k--')"
   ]
  },
  {
   "cell_type": "code",
   "execution_count": null,
   "metadata": {},
   "outputs": [],
   "source": [
    "bins = np.linspace(-4,4,10)\n",
    "mc_p = Hist1D(mc_c.trailing_lep_phi,weights=comb_w,bins=bins,label='ttbar MC['+str(round(sum(comb_w)))+']',color='yellow')\n",
    "mc_pe = Hist1D(mc_c.trailing_lep_phi,weights=comb_w,bins=bins,color='orange')\n",
    "data_p = Hist1D(data_c.trailing_lep_phi,bins=bins,label='Data['+str(len(data_c))+']',color='black')\n",
    "one = np.ones(50)\n",
    "one_x = np.linspace(-4,4)\n",
    "#Plot\n",
    "fig,(ax1,ax2) = plt.subplots(2,sharex=True,figsize=(10,10),gridspec_kw=dict(height_ratios=[5, 2]))\n",
    "mc_p.plot(ax=ax1)\n",
    "mc_pe.plot(ax=ax1,show_errors=True)\n",
    "ax1.set_ylabel(\"Events\")\n",
    "ax2.set_xlabel(r\"Trailing Lepton $\\phi$\")\n",
    "ax1.yaxis.set_minor_locator(AutoMinorLocator())\n",
    "data_p.plot(ax=ax1,show_errors=True)\n",
    "(data_p/mc_p).plot(ax=ax2,show_errors=True,label='')\n",
    "ax2.set_ylabel(r\"$\\frac{Data}{MC}$\",fontsize=18)\n",
    "ax2.set_ylim(0.3,1.7)\n",
    "ax2.yaxis.set_minor_locator(AutoMinorLocator())\n",
    "plt.plot(one_x,one,'k--')"
   ]
  }
 ],
 "metadata": {
  "kernelspec": {
   "display_name": "Python 3",
   "language": "python",
   "name": "python3"
  },
  "language_info": {
   "codemirror_mode": {
    "name": "ipython",
    "version": 3
   },
   "file_extension": ".py",
   "mimetype": "text/x-python",
   "name": "python",
   "nbconvert_exporter": "python",
   "pygments_lexer": "ipython3",
   "version": "3.7.7"
  }
 },
 "nbformat": 4,
 "nbformat_minor": 4
}
