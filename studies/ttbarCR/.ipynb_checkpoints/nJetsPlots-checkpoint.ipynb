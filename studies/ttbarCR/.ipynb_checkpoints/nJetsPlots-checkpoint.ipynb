{
 "cells": [
  {
   "cell_type": "code",
   "execution_count": 14,
   "metadata": {},
   "outputs": [],
   "source": [
    "import matplotlib.pyplot as plt\n",
    "import numpy as np\n",
    "import pandas\n",
    "import uproot\n",
    "from yahist import Hist1D\n",
    "from yahist.utils import plot_stack\n",
    "from matplotlib.ticker import AutoMinorLocator\n",
    "import os\n",
    "from os import listdir\n",
    "from os.path import isfile, join"
   ]
  },
  {
   "cell_type": "code",
   "execution_count": 15,
   "metadata": {},
   "outputs": [],
   "source": [
    "# matplotlob params\n",
    "params = {'legend.fontsize': 'x-large',\n",
    "          'figure.figsize': (15, 5),\n",
    "          'axes.labelsize': 'x-large',\n",
    "          'axes.titlesize':'x-large',\n",
    "          'xtick.labelsize':'x-large',\n",
    "          'ytick.labelsize':'x-large'}\n",
    "plt.rcParams.update(params)"
   ]
  },
  {
   "cell_type": "code",
   "execution_count": 16,
   "metadata": {},
   "outputs": [],
   "source": [
    "# functions for reading files\n",
    "path_to_mc_TTJets = \"/hadoop/cms/store/user/jguiang/ttbarCR/babies/TTJets/\"\n",
    "mc_dirs_TTJets = [f.path for f in os.scandir(path_to_mc_TTJets) if f.is_dir() and 'NJETS_DEBUG_v1-0-0' in f.path]\n",
    "mc_files_list_TTJets = lambda i : [f for f in listdir(mc_dirs_TTJets[i]) if isfile(join(mc_dirs_TTJets[i], f))]\n",
    "def mc_nevents_TTJets(i,j):\n",
    "    return uproot.open(mc_dirs_TTJets[i] + '/' + mc_files_list_TTJets(i)[j]).get(\"n_events\").allvalues[1]\n",
    "n_events_list_TTJets = [sum([mc_nevents_TTJets(i,j) for j in range(len(mc_files_list_TTJets(i)))]) for i in range(len(mc_dirs_TTJets))]\n",
    "def mc_files_TTJets(i,j):\n",
    "    df = uproot.open(mc_dirs_TTJets[i] + '/' + mc_files_list_TTJets(i)[j]).get(\"tree\").pandas.df(flatten=False)\n",
    "    if ('DiLept_' in mc_dirs_TTJets[i]):\n",
    "        df.insert(1,'xsec',87.3)\n",
    "        df.insert(2,'n_events',n_events_list_TTJets[i])\n",
    "    elif ('SingleLeptFromT_' in mc_dirs_TTJets[i]):\n",
    "        df.insert(1,'xsec',182.7)\n",
    "        df.insert(2,'n_events',n_events_list_TTJets[i])\n",
    "    elif ('SingleLeptFromTbar_' in mc_dirs_TTJets[i]):\n",
    "        df.insert(1,'xsec',182.7)\n",
    "        df.insert(2,'n_events',n_events_list_TTJets[i])\n",
    "        \n",
    "    if ('Summer16' in mc_dirs_TTJets[i]):\n",
    "        df.insert(3,'int_lumi',35920)\n",
    "        df.insert(4,'year',2016)\n",
    "    elif ('Fall17' in mc_dirs_TTJets[i]):\n",
    "        df.insert(3,'int_lumi',41530)\n",
    "        df.insert(4,'year',2017)\n",
    "    elif ('Autumn18' in mc_dirs_TTJets[i]):\n",
    "        df.insert(3,'int_lumi',59740)\n",
    "        df.insert(4,'year',2018)\n",
    "    return df"
   ]
  },
  {
   "cell_type": "code",
   "execution_count": 17,
   "metadata": {},
   "outputs": [],
   "source": [
    "path_to_data = \"/hadoop/cms/store/user/jguiang/ttbarCR/babies/MuonEG/\"\n",
    "data_dirs = [f.path for f in os.scandir(path_to_data) if f.is_dir() and 'NJETS_DEBUG_v1-0-0' in f.path]\n",
    "data_files_list = lambda i : [f for f in listdir(data_dirs[i]) if isfile(join(data_dirs[i], f))]\n",
    "def data_files(i,j):\n",
    "    df = uproot.open(data_dirs[i] + '/' + data_files_list(i)[j]).get(\"tree\").pandas.df(flatten=False)\n",
    "    if ('2016' in data_dirs[i]):\n",
    "        df.insert(1,'year',2016)\n",
    "    elif ('2017' in data_dirs[i]):\n",
    "        df.insert(1,'year',2017)\n",
    "    elif ('2018' in data_dirs[i]):\n",
    "        df.insert(1,'year',2018)\n",
    "    return df"
   ]
  },
  {
   "cell_type": "code",
   "execution_count": 18,
   "metadata": {},
   "outputs": [],
   "source": [
    "# making list w/ functions above\n",
    "mc_list_TTJets = [mc_files_TTJets(i,j) for i in range(len(mc_dirs_TTJets)) for j in range(len(mc_files_list_TTJets(i)))]"
   ]
  },
  {
   "cell_type": "code",
   "execution_count": 19,
   "metadata": {},
   "outputs": [],
   "source": [
    "data_list = [data_files(i,j) for i in range(len(data_dirs)) for j in range(len(data_files_list(i)))]"
   ]
  },
  {
   "cell_type": "code",
   "execution_count": 20,
   "metadata": {},
   "outputs": [],
   "source": [
    "# concat to make df\n",
    "mc_c_TTJets = pandas.concat(mc_list_TTJets)\n",
    "data_c = pandas.concat(data_list)"
   ]
  },
  {
   "cell_type": "code",
   "execution_count": 21,
   "metadata": {},
   "outputs": [
    {
     "data": {
      "text/html": [
       "<div>\n",
       "<style scoped>\n",
       "    .dataframe tbody tr th:only-of-type {\n",
       "        vertical-align: middle;\n",
       "    }\n",
       "\n",
       "    .dataframe tbody tr th {\n",
       "        vertical-align: top;\n",
       "    }\n",
       "\n",
       "    .dataframe thead th {\n",
       "        text-align: right;\n",
       "    }\n",
       "</style>\n",
       "<table border=\"1\" class=\"dataframe\">\n",
       "  <thead>\n",
       "    <tr style=\"text-align: right;\">\n",
       "      <th></th>\n",
       "      <th>num_jets</th>\n",
       "      <th>xsec</th>\n",
       "      <th>n_events</th>\n",
       "      <th>int_lumi</th>\n",
       "      <th>year</th>\n",
       "      <th>num_jets_etaLT2p4</th>\n",
       "      <th>num_jets_etaGEQ2p4</th>\n",
       "      <th>gen_weight</th>\n",
       "      <th>mc_weight</th>\n",
       "      <th>mc_loose_btag_weight</th>\n",
       "      <th>mc_medium_btag_weight</th>\n",
       "      <th>mc_tight_btag_weight</th>\n",
       "    </tr>\n",
       "    <tr>\n",
       "      <th>entry</th>\n",
       "      <th></th>\n",
       "      <th></th>\n",
       "      <th></th>\n",
       "      <th></th>\n",
       "      <th></th>\n",
       "      <th></th>\n",
       "      <th></th>\n",
       "      <th></th>\n",
       "      <th></th>\n",
       "      <th></th>\n",
       "      <th></th>\n",
       "      <th></th>\n",
       "    </tr>\n",
       "  </thead>\n",
       "  <tbody>\n",
       "    <tr>\n",
       "      <th>0</th>\n",
       "      <td>2</td>\n",
       "      <td>87.3</td>\n",
       "      <td>24767666.0</td>\n",
       "      <td>35920</td>\n",
       "      <td>2016</td>\n",
       "      <td>2</td>\n",
       "      <td>0</td>\n",
       "      <td>1.0</td>\n",
       "      <td>0.924800</td>\n",
       "      <td>0.977183</td>\n",
       "      <td>0.965646</td>\n",
       "      <td>0.943745</td>\n",
       "    </tr>\n",
       "    <tr>\n",
       "      <th>1</th>\n",
       "      <td>2</td>\n",
       "      <td>87.3</td>\n",
       "      <td>24767666.0</td>\n",
       "      <td>35920</td>\n",
       "      <td>2016</td>\n",
       "      <td>2</td>\n",
       "      <td>0</td>\n",
       "      <td>1.0</td>\n",
       "      <td>0.919803</td>\n",
       "      <td>0.967176</td>\n",
       "      <td>0.942721</td>\n",
       "      <td>0.923580</td>\n",
       "    </tr>\n",
       "    <tr>\n",
       "      <th>2</th>\n",
       "      <td>5</td>\n",
       "      <td>87.3</td>\n",
       "      <td>24767666.0</td>\n",
       "      <td>35920</td>\n",
       "      <td>2016</td>\n",
       "      <td>4</td>\n",
       "      <td>1</td>\n",
       "      <td>1.0</td>\n",
       "      <td>0.882999</td>\n",
       "      <td>0.963191</td>\n",
       "      <td>0.932931</td>\n",
       "      <td>0.914119</td>\n",
       "    </tr>\n",
       "    <tr>\n",
       "      <th>3</th>\n",
       "      <td>2</td>\n",
       "      <td>87.3</td>\n",
       "      <td>24767666.0</td>\n",
       "      <td>35920</td>\n",
       "      <td>2016</td>\n",
       "      <td>2</td>\n",
       "      <td>0</td>\n",
       "      <td>1.0</td>\n",
       "      <td>0.904089</td>\n",
       "      <td>0.974110</td>\n",
       "      <td>0.959485</td>\n",
       "      <td>0.939396</td>\n",
       "    </tr>\n",
       "    <tr>\n",
       "      <th>4</th>\n",
       "      <td>4</td>\n",
       "      <td>87.3</td>\n",
       "      <td>24767666.0</td>\n",
       "      <td>35920</td>\n",
       "      <td>2016</td>\n",
       "      <td>4</td>\n",
       "      <td>0</td>\n",
       "      <td>1.0</td>\n",
       "      <td>0.887076</td>\n",
       "      <td>0.973919</td>\n",
       "      <td>0.959000</td>\n",
       "      <td>0.938954</td>\n",
       "    </tr>\n",
       "    <tr>\n",
       "      <th>...</th>\n",
       "      <td>...</td>\n",
       "      <td>...</td>\n",
       "      <td>...</td>\n",
       "      <td>...</td>\n",
       "      <td>...</td>\n",
       "      <td>...</td>\n",
       "      <td>...</td>\n",
       "      <td>...</td>\n",
       "      <td>...</td>\n",
       "      <td>...</td>\n",
       "      <td>...</td>\n",
       "      <td>...</td>\n",
       "    </tr>\n",
       "    <tr>\n",
       "      <th>0</th>\n",
       "      <td>5</td>\n",
       "      <td>182.7</td>\n",
       "      <td>48387865.0</td>\n",
       "      <td>35920</td>\n",
       "      <td>2016</td>\n",
       "      <td>5</td>\n",
       "      <td>0</td>\n",
       "      <td>1.0</td>\n",
       "      <td>0.906819</td>\n",
       "      <td>0.955786</td>\n",
       "      <td>0.951662</td>\n",
       "      <td>0.933167</td>\n",
       "    </tr>\n",
       "    <tr>\n",
       "      <th>1</th>\n",
       "      <td>3</td>\n",
       "      <td>182.7</td>\n",
       "      <td>48387865.0</td>\n",
       "      <td>35920</td>\n",
       "      <td>2016</td>\n",
       "      <td>3</td>\n",
       "      <td>0</td>\n",
       "      <td>1.0</td>\n",
       "      <td>0.926778</td>\n",
       "      <td>0.972992</td>\n",
       "      <td>0.957007</td>\n",
       "      <td>0.937406</td>\n",
       "    </tr>\n",
       "    <tr>\n",
       "      <th>2</th>\n",
       "      <td>2</td>\n",
       "      <td>182.7</td>\n",
       "      <td>48387865.0</td>\n",
       "      <td>35920</td>\n",
       "      <td>2016</td>\n",
       "      <td>2</td>\n",
       "      <td>0</td>\n",
       "      <td>1.0</td>\n",
       "      <td>0.905017</td>\n",
       "      <td>0.964917</td>\n",
       "      <td>0.936942</td>\n",
       "      <td>0.917351</td>\n",
       "    </tr>\n",
       "    <tr>\n",
       "      <th>3</th>\n",
       "      <td>4</td>\n",
       "      <td>182.7</td>\n",
       "      <td>48387865.0</td>\n",
       "      <td>35920</td>\n",
       "      <td>2016</td>\n",
       "      <td>3</td>\n",
       "      <td>1</td>\n",
       "      <td>1.0</td>\n",
       "      <td>0.917585</td>\n",
       "      <td>0.963988</td>\n",
       "      <td>0.934914</td>\n",
       "      <td>0.915975</td>\n",
       "    </tr>\n",
       "    <tr>\n",
       "      <th>4</th>\n",
       "      <td>4</td>\n",
       "      <td>182.7</td>\n",
       "      <td>48387865.0</td>\n",
       "      <td>35920</td>\n",
       "      <td>2016</td>\n",
       "      <td>4</td>\n",
       "      <td>0</td>\n",
       "      <td>1.0</td>\n",
       "      <td>0.901898</td>\n",
       "      <td>0.976666</td>\n",
       "      <td>0.964641</td>\n",
       "      <td>0.943062</td>\n",
       "    </tr>\n",
       "  </tbody>\n",
       "</table>\n",
       "<p>329078 rows × 12 columns</p>\n",
       "</div>"
      ],
      "text/plain": [
       "       num_jets   xsec    n_events  int_lumi  year  num_jets_etaLT2p4  \\\n",
       "entry                                                                   \n",
       "0             2   87.3  24767666.0     35920  2016                  2   \n",
       "1             2   87.3  24767666.0     35920  2016                  2   \n",
       "2             5   87.3  24767666.0     35920  2016                  4   \n",
       "3             2   87.3  24767666.0     35920  2016                  2   \n",
       "4             4   87.3  24767666.0     35920  2016                  4   \n",
       "...         ...    ...         ...       ...   ...                ...   \n",
       "0             5  182.7  48387865.0     35920  2016                  5   \n",
       "1             3  182.7  48387865.0     35920  2016                  3   \n",
       "2             2  182.7  48387865.0     35920  2016                  2   \n",
       "3             4  182.7  48387865.0     35920  2016                  3   \n",
       "4             4  182.7  48387865.0     35920  2016                  4   \n",
       "\n",
       "       num_jets_etaGEQ2p4  gen_weight  mc_weight  mc_loose_btag_weight  \\\n",
       "entry                                                                    \n",
       "0                       0         1.0   0.924800              0.977183   \n",
       "1                       0         1.0   0.919803              0.967176   \n",
       "2                       1         1.0   0.882999              0.963191   \n",
       "3                       0         1.0   0.904089              0.974110   \n",
       "4                       0         1.0   0.887076              0.973919   \n",
       "...                   ...         ...        ...                   ...   \n",
       "0                       0         1.0   0.906819              0.955786   \n",
       "1                       0         1.0   0.926778              0.972992   \n",
       "2                       0         1.0   0.905017              0.964917   \n",
       "3                       1         1.0   0.917585              0.963988   \n",
       "4                       0         1.0   0.901898              0.976666   \n",
       "\n",
       "       mc_medium_btag_weight  mc_tight_btag_weight  \n",
       "entry                                               \n",
       "0                   0.965646              0.943745  \n",
       "1                   0.942721              0.923580  \n",
       "2                   0.932931              0.914119  \n",
       "3                   0.959485              0.939396  \n",
       "4                   0.959000              0.938954  \n",
       "...                      ...                   ...  \n",
       "0                   0.951662              0.933167  \n",
       "1                   0.957007              0.937406  \n",
       "2                   0.936942              0.917351  \n",
       "3                   0.934914              0.915975  \n",
       "4                   0.964641              0.943062  \n",
       "\n",
       "[329078 rows x 12 columns]"
      ]
     },
     "execution_count": 21,
     "metadata": {},
     "output_type": "execute_result"
    }
   ],
   "source": [
    "mc_c_TTJets"
   ]
  },
  {
   "cell_type": "code",
   "execution_count": 22,
   "metadata": {},
   "outputs": [],
   "source": [
    "xsec_weight_TTJets = mc_c_TTJets.gen_weight * mc_c_TTJets.xsec * mc_c_TTJets.int_lumi / mc_c_TTJets.n_events\n",
    "comb_w_TTJets = mc_c_TTJets.mc_weight * mc_c_TTJets.mc_tight_btag_weight * xsec_weight_TTJets"
   ]
  },
  {
   "cell_type": "code",
   "execution_count": 23,
   "metadata": {},
   "outputs": [
    {
     "data": {
      "text/plain": [
       "[<matplotlib.lines.Line2D at 0x7f2cc73ec950>]"
      ]
     },
     "execution_count": 23,
     "metadata": {},
     "output_type": "execute_result"
    },
    {
     "data": {
      "image/png": "[encoded data removed]",
      "text/plain": [
       "<Figure size 720x720 with 2 Axes>"
      ]
     },
     "metadata": {
      "needs_background": "light"
     },
     "output_type": "display_data"
    }
   ],
   "source": [
    "bins = np.linspace(0,12,13)\n",
    "mc_p_TTJets = Hist1D(mc_c_TTJets.num_jets,weights=comb_w_TTJets,bins=bins,label='TTJets['+str(round(sum(comb_w_TTJets)))+']',color='gold')\n",
    "mc_pe_TTJets = Hist1D(mc_c_TTJets.num_jets,weights=comb_w_TTJets,bins=bins,color='orange')\n",
    "data_p = Hist1D(data_c.num_jets,bins=bins,label='Data['+str(len(data_c))+']',color='black')\n",
    "one = np.ones(50)\n",
    "one_x = np.linspace(0,12)\n",
    "#Plot\n",
    "fig,(ax1,ax2) = plt.subplots(2,sharex=True,figsize=(10,10),gridspec_kw=dict(height_ratios=[5, 2]))\n",
    "mc_p_TTJets.plot(ax=ax1)\n",
    "#mc_pe_TTJets.plot(ax=ax1,show_errors=True)\n",
    "ax1.set_ylabel(\"Events\")\n",
    "ax2.set_xlabel(r\"Number of Jets\")\n",
    "ax1.yaxis.set_minor_locator(AutoMinorLocator())\n",
    "data_p.plot(ax=ax1,show_errors=True)\n",
    "ax1.set_title(str(mc_c_TTJets.year.iloc(0)[0]))\n",
    "(data_p/(mc_p_TTJets)).plot(ax=ax2,show_errors=True,label='')\n",
    "ax2.set_ylabel(r\"$\\frac{Data}{MC}$\",fontsize=18)\n",
    "ax2.set_ylim(0.3,1.7)\n",
    "ax2.yaxis.set_minor_locator(AutoMinorLocator())\n",
    "plt.plot(one_x,one,'k--')"
   ]
  },
  {
   "cell_type": "code",
   "execution_count": 24,
   "metadata": {},
   "outputs": [
    {
     "data": {
      "text/plain": [
       "[<matplotlib.lines.Line2D at 0x7f2cc38196d0>]"
      ]
     },
     "execution_count": 24,
     "metadata": {},
     "output_type": "execute_result"
    },
    {
     "data": {
      "image/png": "[encoded data removed]",
      "text/plain": [
       "<Figure size 720x720 with 2 Axes>"
      ]
     },
     "metadata": {
      "needs_background": "light"
     },
     "output_type": "display_data"
    }
   ],
   "source": [
    "bins = np.linspace(0,12,13)\n",
    "mc_p_TTJets = Hist1D(mc_c_TTJets.num_jets_etaLT2p4,weights=comb_w_TTJets,bins=bins,label='TTJets['+str(round(sum(comb_w_TTJets)))+']',color='gold')\n",
    "mc_pe_TTJets = Hist1D(mc_c_TTJets.num_jets_etaLT2p4,weights=comb_w_TTJets,bins=bins,color='orange')\n",
    "data_p = Hist1D(data_c.num_jets_etaLT2p4,bins=bins,label='Data['+str(len(data_c))+']',color='black')\n",
    "one = np.ones(50)\n",
    "one_x = np.linspace(0,12)\n",
    "#Plot\n",
    "fig,(ax1,ax2) = plt.subplots(2,sharex=True,figsize=(10,10),gridspec_kw=dict(height_ratios=[5, 2]))\n",
    "mc_p_TTJets.plot(ax=ax1)\n",
    "#mc_pe_TTJets.plot(ax=ax1,show_errors=True)\n",
    "ax1.set_ylabel(\"Events\")\n",
    "ax2.set_xlabel(r\"num_jets_etaLT2p4\")\n",
    "ax1.yaxis.set_minor_locator(AutoMinorLocator())\n",
    "data_p.plot(ax=ax1,show_errors=True)\n",
    "ax1.set_title(str(mc_c_TTJets.year.iloc(0)[0]))\n",
    "(data_p/(mc_p_TTJets)).plot(ax=ax2,show_errors=True,label='')\n",
    "ax2.set_ylabel(r\"$\\frac{Data}{MC}$\",fontsize=18)\n",
    "ax2.set_ylim(0.3,1.7)\n",
    "ax2.yaxis.set_minor_locator(AutoMinorLocator())\n",
    "plt.plot(one_x,one,'k--')"
   ]
  },
  {
   "cell_type": "code",
   "execution_count": 25,
   "metadata": {},
   "outputs": [
    {
     "data": {
      "text/plain": [
       "[<matplotlib.lines.Line2D at 0x7f2cc2515150>]"
      ]
     },
     "execution_count": 25,
     "metadata": {},
     "output_type": "execute_result"
    },
    {
     "data": {
      "image/png": "[encoded data removed]",
      "text/plain": [
       "<Figure size 720x720 with 2 Axes>"
      ]
     },
     "metadata": {
      "needs_background": "light"
     },
     "output_type": "display_data"
    }
   ],
   "source": [
    "bins = np.linspace(0,12,13)\n",
    "mc_p_TTJets = Hist1D(mc_c_TTJets.num_jets_etaGEQ2p4,weights=comb_w_TTJets,bins=bins,label='TTJets['+str(round(sum(comb_w_TTJets)))+']',color='gold')\n",
    "mc_pe_TTJets = Hist1D(mc_c_TTJets.num_jets_etaGEQ2p4,weights=comb_w_TTJets,bins=bins,color='orange')\n",
    "data_p = Hist1D(data_c.num_jets_etaGEQ2p4,bins=bins,label='Data['+str(len(data_c))+']',color='black')\n",
    "one = np.ones(50)\n",
    "one_x = np.linspace(0,12)\n",
    "#Plot\n",
    "fig,(ax1,ax2) = plt.subplots(2,sharex=True,figsize=(10,10),gridspec_kw=dict(height_ratios=[5, 2]))\n",
    "mc_p_TTJets.plot(ax=ax1)\n",
    "#mc_pe_TTJets.plot(ax=ax1,show_errors=True)\n",
    "ax1.set_ylabel(\"Events\")\n",
    "ax2.set_xlabel(r\"num_jets_etaGEQ2p4\")\n",
    "ax1.yaxis.set_minor_locator(AutoMinorLocator())\n",
    "data_p.plot(ax=ax1,show_errors=True)\n",
    "ax1.set_title(str(mc_c_TTJets.year.iloc(0)[0]))\n",
    "(data_p/(mc_p_TTJets)).plot(ax=ax2,show_errors=True,label='')\n",
    "ax2.set_ylabel(r\"$\\frac{Data}{MC}$\",fontsize=18)\n",
    "ax2.set_ylim(0.3,1.7)\n",
    "ax2.yaxis.set_minor_locator(AutoMinorLocator())\n",
    "plt.plot(one_x,one,'k--')"
   ]
  }
 ],
 "metadata": {
  "kernelspec": {
   "display_name": "Python 3",
   "language": "python",
   "name": "python3"
  },
  "language_info": {
   "codemirror_mode": {
    "name": "ipython",
    "version": 3
   },
   "file_extension": ".py",
   "mimetype": "text/x-python",
   "name": "python",
   "nbconvert_exporter": "python",
   "pygments_lexer": "ipython3",
   "version": "3.7.7"
  }
 },
 "nbformat": 4,
 "nbformat_minor": 4
}
